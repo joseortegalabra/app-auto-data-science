{
 "cells": [
  {
   "cell_type": "markdown",
   "id": "4f39d798-1ca7-4463-a38d-78443ec06426",
   "metadata": {},
   "source": [
    "# Save dataset in GCS\n",
    "**Codes to save the a dataset that the user upload in a GCS. Also it is necesary save the rest of selections of the user (for example save the time to forecast, type of analysis to do, type of models to trainl etc)**\n",
    "\n",
    "---\n",
    "**When the user upload a dataset it should be saved in a bucket of GCS** OBS: it is necesary create a bucket and a folder\n",
    "\n",
    "---\n",
    "**Upload the data, select the list of features, select the target**\n",
    "\n",
    "\n",
    "---\n",
    "**----> V2 USING GCSFS PACAKGE TO UPLOAD FILES IN A PYTHONIC WAY**"
   ]
  },
  {
   "cell_type": "code",
   "execution_count": null,
   "id": "9a4ccfdd-4668-4d10-beff-90346e80e0dc",
   "metadata": {},
   "outputs": [],
   "source": [
    "import pandas as pd\n",
    "import json\n",
    "import subprocess\n",
    "import gcsfs"
   ]
  },
  {
   "cell_type": "code",
   "execution_count": null,
   "id": "a7bd715b-7105-4842-aff9-8d13bb959c07",
   "metadata": {},
   "outputs": [],
   "source": []
  },
  {
   "cell_type": "markdown",
   "id": "aa550729-ec12-460b-87f9-a8a8ce00ea2b",
   "metadata": {},
   "source": [
    "# RUN CODES"
   ]
  },
  {
   "cell_type": "markdown",
   "id": "09ba6db5-39eb-42d9-909f-fc432d064739",
   "metadata": {},
   "source": [
    "### 0. Auxiliar functions"
   ]
  },
  {
   "cell_type": "code",
   "execution_count": null,
   "id": "47e19d51-e5aa-4e08-a1b1-0daf430dd0ff",
   "metadata": {},
   "outputs": [],
   "source": [
    "# def upload_files_gcs(path_local_file, path_gcs_folder):\n",
    "#     \"\"\"\n",
    "#     Upload files local in cloud. Work in jupyter notebook command !\n",
    "\n",
    "#     Args:\n",
    "#         path_local_file: path to file locally\n",
    "#         path_gcs_folder: path to GCS folder where to save the file\n",
    "#     \"\"\"\n",
    "#     # upload file\n",
    "#     ! gsutil cp {path_local_file} {path_gcs_folder}\n",
    "\n",
    "#### THIS FUNCTION IS NOT USED IN THIS EXAMPLE - GCSFS package is used instead"
   ]
  },
  {
   "cell_type": "code",
   "execution_count": null,
   "id": "21de182a-2c40-4243-96e9-5a0f46b65738",
   "metadata": {},
   "outputs": [],
   "source": []
  },
  {
   "cell_type": "code",
   "execution_count": null,
   "id": "1c648c28-a497-4c7c-9b6e-8f2c4c9b5a8a",
   "metadata": {},
   "outputs": [],
   "source": []
  },
  {
   "cell_type": "markdown",
   "id": "04b4186e-7277-41a5-9925-0850f0e675c6",
   "metadata": {},
   "source": [
    "### 0. Config"
   ]
  },
  {
   "cell_type": "markdown",
   "id": "bf43591b-6085-478c-ac66-efa923d5b7c9",
   "metadata": {},
   "source": [
    "#### 0.1. Read env variables - configuration GCP"
   ]
  },
  {
   "cell_type": "code",
   "execution_count": null,
   "id": "53b78810-8544-41cc-aa85-9f274e894148",
   "metadata": {},
   "outputs": [],
   "source": [
    "# ---------------------------- read env variables used in the app ----------------------------\n",
    "import os\n",
    "from dotenv import load_dotenv, find_dotenv\n",
    "load_dotenv(find_dotenv())\n",
    "PROJECT_GCP = os.environ.get(\"PROJECT_GCP\", \"\")\n",
    "REGION_GCP = os.environ.get(\"REGION_GCP\", \"\")\n",
    "BUCKET_GCP = os.environ.get(\"BUCKET_GCP\", \"\")"
   ]
  },
  {
   "cell_type": "code",
   "execution_count": null,
   "id": "e97a014e-d866-4a60-ad19-6504e1c9cec6",
   "metadata": {},
   "outputs": [],
   "source": [
    "# connect to GCS\n",
    "fs = gcsfs.GCSFileSystem(project = PROJECT_GCP)"
   ]
  },
  {
   "cell_type": "code",
   "execution_count": null,
   "id": "e06adca4-f678-44d0-9b26-7538691f18a9",
   "metadata": {},
   "outputs": [],
   "source": []
  },
  {
   "cell_type": "code",
   "execution_count": null,
   "id": "504d84e0-485b-421a-b69f-da7cd3531440",
   "metadata": {},
   "outputs": [],
   "source": []
  },
  {
   "cell_type": "markdown",
   "id": "b402f5c8-1b09-456b-b342-d546d5141936",
   "metadata": {},
   "source": [
    "#### 0.2 Root path\n",
    "Set path where I stay in the previous folder"
   ]
  },
  {
   "cell_type": "code",
   "execution_count": null,
   "id": "fa3ec244-c12b-4f5b-a6c2-7653441c5031",
   "metadata": {},
   "outputs": [],
   "source": [
    "import os\n",
    "# fix root path to save outputs\n",
    "actual_path = os.path.abspath(os.getcwd())\n",
    "print('actual path: ', actual_path)\n",
    "list_root_path = actual_path.split('\\\\')[:-1]\n",
    "root_path = '\\\\'.join(list_root_path)\n",
    "os.chdir(root_path)\n",
    "print('new path: ', root_path)"
   ]
  },
  {
   "cell_type": "code",
   "execution_count": null,
   "id": "0f316984-dc65-48a3-a7db-db4c3f875dbd",
   "metadata": {},
   "outputs": [],
   "source": []
  },
  {
   "cell_type": "markdown",
   "id": "78af3309-37e8-4c8e-947a-93da0b2906aa",
   "metadata": {},
   "source": [
    "#### 0.3 Read paths of data uploaded BY THE USER\n",
    "In theory the user will upload a dataset and this dataset will be saved locally in this path. After that, this code starts to run"
   ]
  },
  {
   "cell_type": "code",
   "execution_count": null,
   "id": "ed8ff8fa-cf46-4b18-be33-680fd117cdbf",
   "metadata": {},
   "outputs": [],
   "source": [
    "path_local_data = 'data_local/data.xlsx'"
   ]
  },
  {
   "cell_type": "code",
   "execution_count": null,
   "id": "b0bdea62-d9a5-4eb6-b7a0-4996836fb571",
   "metadata": {},
   "outputs": [],
   "source": []
  },
  {
   "cell_type": "markdown",
   "id": "6a6215de-1020-45d6-be83-368bef54e1b8",
   "metadata": {},
   "source": [
    "### 1 PARAMS "
   ]
  },
  {
   "cell_type": "markdown",
   "id": "66d6e71a-55d6-49ff-809e-19815d8f0b4a",
   "metadata": {},
   "source": [
    "#### 1.1 Read data"
   ]
  },
  {
   "cell_type": "code",
   "execution_count": null,
   "id": "30482dde-1723-40b8-afe1-60afa9231c25",
   "metadata": {},
   "outputs": [],
   "source": [
    "# read data\n",
    "data = pd.read_excel(path_local_data)"
   ]
  },
  {
   "cell_type": "code",
   "execution_count": null,
   "id": "40ba3952-c462-49ff-a03e-346d4c1c9d2d",
   "metadata": {},
   "outputs": [],
   "source": [
    "data"
   ]
  },
  {
   "cell_type": "code",
   "execution_count": null,
   "id": "d8d5c4ca-2a1e-49c8-87cc-454c4c6cc688",
   "metadata": {},
   "outputs": [],
   "source": []
  },
  {
   "cell_type": "code",
   "execution_count": null,
   "id": "7cfb8504-d03d-420c-99e2-b45a4f77ee81",
   "metadata": {},
   "outputs": [],
   "source": []
  },
  {
   "cell_type": "markdown",
   "id": "4c86816c-d796-4e4b-ad79-823f8cee1e12",
   "metadata": {},
   "source": [
    "#### 1.2 Define parameters to upload data\n",
    "Define a list of parameters when the data is uploaded. For example:\n",
    "\n",
    "- The name of the dataset. The name will be used as id across al the functionalities\n",
    "- Parameters of the data: number of steps to do forecast in the future (according the interpolarity of the data) "
   ]
  },
  {
   "cell_type": "code",
   "execution_count": null,
   "id": "1a20a0e4-0f55-40d5-9485-cd9b03b137ca",
   "metadata": {},
   "outputs": [],
   "source": [
    "#### DEFINE PARAMETERS THAT ALWAYS NEED TO BE DEFINED ####\n",
    "\n",
    "# define name of the dataset - the user need to define it\n",
    "NAME_DATASET = 'develop-app-final-v2'\n",
    "\n",
    "# define number of steps to forecast\n",
    "STEPS_FORECAST = 5\n",
    "\n",
    "# define feature list\n",
    "LIST_FEATURES = ['CMPC.SN', 'CHILE.SN', 'COPEC.SN', 'MSFT', 'AAPL', 'GOOG', 'TSLA', 'O', 'BHP']\n",
    "\n",
    "# define target list\n",
    "LIST_TARGET = ['VOO']"
   ]
  },
  {
   "cell_type": "code",
   "execution_count": null,
   "id": "72b9ebb7-b59a-4963-a936-12aad717560c",
   "metadata": {},
   "outputs": [],
   "source": [
    "#### DEFINE PARAMETERS ACCORDING THE ANALYSIS THAT THE USER WANT\n",
    "\n",
    "## EDA\n",
    "STATISTICS = False\n",
    "HISTOGRAMS = True\n",
    "BOXPLOTS_MONTLY = True \n",
    "CORRELATIONS_ALL = True\n",
    "CORRELATIONS_TARGET = True\n",
    "SEGMENTATION_ANALYSIS = True\n",
    "SEG_PARAM_TO_SEGMENT = 'TSLA'\n",
    "CATEGORICAL_ANALYSIS = True"
   ]
  },
  {
   "cell_type": "markdown",
   "id": "1bab450c-0d0e-452e-8214-6e35d6ee078b",
   "metadata": {},
   "source": [
    "#### 1.3 Create segmentations parameters according the user input\n",
    "In the segmentation data the user decide which feature make segmentation analysis and internally its decide the intervals (because this choice is easier to write in an app. In the future implement the user select the feature and the intervals)"
   ]
  },
  {
   "cell_type": "code",
   "execution_count": null,
   "id": "b9bfb28d-fcf1-4220-814d-0174f2eb701f",
   "metadata": {},
   "outputs": [],
   "source": [
    "# define threshold to segment the data into 3 segments by percentile\n",
    "threshold_1 = data[SEG_PARAM_TO_SEGMENT].min() - 10\n",
    "threshold_2 = data[SEG_PARAM_TO_SEGMENT].quantile(0.25)\n",
    "threshold_3 = data[SEG_PARAM_TO_SEGMENT].quantile(0.75)\n",
    "threshold_4 = data[SEG_PARAM_TO_SEGMENT].max() + 10\n",
    "SEG_DATA_INTERVALS = [threshold_1, threshold_2, threshold_3, threshold_4]\n",
    "\n",
    "# define labels\n",
    "SEG_DATA_LABELS = [SEG_PARAM_TO_SEGMENT + ' low', SEG_PARAM_TO_SEGMENT + ' medium', SEG_PARAM_TO_SEGMENT + ' high']"
   ]
  },
  {
   "cell_type": "code",
   "execution_count": null,
   "id": "21e92f15-1085-4a23-8f9d-2f3b714794c1",
   "metadata": {},
   "outputs": [],
   "source": []
  },
  {
   "cell_type": "code",
   "execution_count": null,
   "id": "5c64e73e-a532-4610-be46-f6b157d10a76",
   "metadata": {},
   "outputs": [],
   "source": []
  },
  {
   "cell_type": "markdown",
   "id": "fccc1f58-56ad-4ae2-93a0-61ec1943b1d4",
   "metadata": {},
   "source": [
    "### 2. Upload data and params (save locally and then upload to cloud)"
   ]
  },
  {
   "cell_type": "markdown",
   "id": "e78bb9e8-164f-43c3-b7b3-c447d03ef08f",
   "metadata": {},
   "source": [
    "#### 2.1 Build path to save artifacts of this dataset\n",
    "Build path to folder in GCS where are saved the files of this dataset"
   ]
  },
  {
   "cell_type": "code",
   "execution_count": null,
   "id": "37c37e48-b4c1-4416-b924-ccd76cb78499",
   "metadata": {},
   "outputs": [],
   "source": [
    "# define path cloud where the data will be saved in GCS. transversal across all data upload\n",
    "path_gcs_folder_data = \"gs://\" + BUCKET_GCP + '/' + NAME_DATASET + '/' + 'data' + '/'\n",
    "path_gcs_folder_data"
   ]
  },
  {
   "cell_type": "code",
   "execution_count": null,
   "id": "083072c8-f6f4-48a3-879c-a577b3c3d17d",
   "metadata": {},
   "outputs": [],
   "source": []
  },
  {
   "cell_type": "markdown",
   "id": "799e9cda-fd3f-43c3-a5d4-7c2a1f2d742f",
   "metadata": {},
   "source": [
    "#### 2.2. Upload parameters\n",
    "Create a dictionary to save as a json of the configuration of the data to future analysis\n",
    "\n",
    "Save locally and the upload to cloud"
   ]
  },
  {
   "cell_type": "code",
   "execution_count": null,
   "id": "a9c362bd-3383-4e80-a20f-ba2cf07b9bd9",
   "metadata": {},
   "outputs": [],
   "source": [
    "# create dictionary parametes\n",
    "dict_parameters_data = {\n",
    "    \"steps_forecast\": STEPS_FORECAST,\n",
    "    \"list_features\": LIST_FEATURES,\n",
    "    \"list_target\": LIST_TARGET,\n",
    "    \"eda\":{\n",
    "        \"statistics\":STATISTICS,\n",
    "        \"histograms\":HISTOGRAMS,\n",
    "        \"boxplots_montly\": BOXPLOTS_MONTLY,\n",
    "        \"correlations_all\": CORRELATIONS_ALL,\n",
    "        \"correlations_target\": CORRELATIONS_TARGET,\n",
    "        \"segmentation_analysis\":SEGMENTATION_ANALYSIS,\n",
    "        \"seg_param_to_segment\": SEG_PARAM_TO_SEGMENT,\n",
    "        \"seg_data_intervals\": SEG_DATA_INTERVALS,\n",
    "        \"seg_data_labels\": SEG_DATA_LABELS,\n",
    "        \"categorical_analysis\": CATEGORICAL_ANALYSIS\n",
    "        }\n",
    "    }\n",
    "\n",
    "dict_parameters_data"
   ]
  },
  {
   "cell_type": "code",
   "execution_count": null,
   "id": "0d4be0d4-83cb-4539-9d00-06d5ff2022a8",
   "metadata": {},
   "outputs": [],
   "source": [
    "# save locally\n",
    "path_local_parameters = 'data_local/parameters.json'\n",
    "with open(path_local_parameters, 'w') as file:\n",
    "    json.dump(dict_parameters_data, file)"
   ]
  },
  {
   "cell_type": "code",
   "execution_count": null,
   "id": "4fec686b-f15a-46ff-9566-46cc2a6094c9",
   "metadata": {},
   "outputs": [],
   "source": [
    "# upload cloud\n",
    "path_cloud_parameters = path_gcs_folder_data + 'parameters.json'\n",
    "with fs.open(path_cloud_parameters, 'w') as file:\n",
    "    json.dump(dict_parameters_data, file)"
   ]
  },
  {
   "cell_type": "code",
   "execution_count": null,
   "id": "0d3cb61e-8b97-442b-909d-e64c35f783c0",
   "metadata": {},
   "outputs": [],
   "source": []
  },
  {
   "cell_type": "code",
   "execution_count": null,
   "id": "baec357d-7515-418a-b5b3-03532959e70a",
   "metadata": {},
   "outputs": [],
   "source": []
  },
  {
   "cell_type": "markdown",
   "id": "69c29041-7951-4e21-b64c-7322069f9bc0",
   "metadata": {},
   "source": [
    "#### 2.3. Upload data file in Storage - GCP\n",
    "The data uploaded by the user needs to be saved locally, then, it is possible save it in cloud"
   ]
  },
  {
   "cell_type": "code",
   "execution_count": null,
   "id": "e873f358-3505-40a2-8d2c-61629c6b891f",
   "metadata": {},
   "outputs": [],
   "source": [
    "# save locally\n",
    "path_local_data = 'data_local/data.xlsx'\n",
    "data.to_excel(path_local_data)"
   ]
  },
  {
   "cell_type": "code",
   "execution_count": null,
   "id": "7e4e4bb7-d290-424f-a9b3-0919cec15e48",
   "metadata": {},
   "outputs": [],
   "source": [
    "# save cloud\n",
    "path_cloud_data = path_gcs_folder_data + 'data.xlsx'\n",
    "data.to_excel(path_cloud_data)"
   ]
  },
  {
   "cell_type": "code",
   "execution_count": null,
   "id": "368166ec-24ca-4441-a95c-c70a64307a61",
   "metadata": {},
   "outputs": [],
   "source": []
  },
  {
   "cell_type": "code",
   "execution_count": null,
   "id": "21fff300-209c-456a-87ba-a7703a6cec45",
   "metadata": {},
   "outputs": [],
   "source": [
    "data"
   ]
  },
  {
   "cell_type": "code",
   "execution_count": null,
   "id": "d5cebb6e-c9e6-4539-80db-829e868c12ba",
   "metadata": {},
   "outputs": [],
   "source": []
  }
 ],
 "metadata": {
  "kernelspec": {
   "display_name": "Python 3 (ipykernel)",
   "language": "python",
   "name": "python3"
  },
  "language_info": {
   "codemirror_mode": {
    "name": "ipython",
    "version": 3
   },
   "file_extension": ".py",
   "mimetype": "text/x-python",
   "name": "python",
   "nbconvert_exporter": "python",
   "pygments_lexer": "ipython3",
   "version": "3.10.14"
  }
 },
 "nbformat": 4,
 "nbformat_minor": 5
}
