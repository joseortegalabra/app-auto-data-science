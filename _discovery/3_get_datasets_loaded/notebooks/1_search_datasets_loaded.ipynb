{
 "cells": [
  {
   "cell_type": "markdown",
   "id": "f65783d5-afa9-404e-9bf2-e502958055b5",
   "metadata": {},
   "source": [
    "# Search datasets loaded in APP\n",
    "This notebook contains auxiliar functions used in the app several times. IN THIS CASE, SEARCH DHE DIFFERENTS DATASETS LOADED\n",
    "\n",
    "This notebook is numerated in position 2, but some of the auxiliar functions may not working if they are called when a dataset or model were generated"
   ]
  },
  {
   "cell_type": "code",
   "execution_count": null,
   "id": "725029ca-fcc4-4a6c-8312-d7a92149be14",
   "metadata": {},
   "outputs": [],
   "source": [
    "# ---------------------------- read env variables used in the app ----------------------------\n",
    "import os\n",
    "from dotenv import load_dotenv, find_dotenv\n",
    "load_dotenv(find_dotenv())\n",
    "PROJECT_GCP = os.environ.get(\"PROJECT_GCP\", \"\")\n",
    "REGION_GCP = os.environ.get(\"REGION_GCP\", \"\")\n",
    "BUCKET_GCP = os.environ.get(\"BUCKET_GCP\", \"\")"
   ]
  },
  {
   "cell_type": "code",
   "execution_count": null,
   "id": "e4020e40-e726-484b-9982-b4e09cef2667",
   "metadata": {},
   "outputs": [],
   "source": []
  },
  {
   "cell_type": "code",
   "execution_count": null,
   "id": "f1ea4ce3-6ea9-4bd2-becc-04ad05d5e441",
   "metadata": {},
   "outputs": [],
   "source": []
  },
  {
   "cell_type": "code",
   "execution_count": null,
   "id": "95410e3a-46e0-409d-8af4-ccde43987f98",
   "metadata": {},
   "outputs": [],
   "source": [
    "from google.cloud import bigquery\n",
    "from google.cloud import storage"
   ]
  },
  {
   "cell_type": "code",
   "execution_count": null,
   "id": "b1f1d7af-bcbf-4ebc-806e-bcc7fa0847c3",
   "metadata": {},
   "outputs": [],
   "source": []
  },
  {
   "cell_type": "code",
   "execution_count": null,
   "id": "1802936b-2544-43b7-b6e1-8b75c5288121",
   "metadata": {},
   "outputs": [],
   "source": []
  },
  {
   "cell_type": "markdown",
   "id": "bee80e4f-8a02-4115-a2f8-567f7902b346",
   "metadata": {},
   "source": [
    "### 1. SHOW THE DATASETS LOADED\n",
    "#### Read the name of folder in the bucket\n",
    "The nuber of folders indicate the number of differents dataset uploaded (and the differets number of eda and models)\n",
    "Because the logic used is each dataset is uploaded in a folder of GCS adn the folder will be used as ID (the name of the folder is passed by the user)"
   ]
  },
  {
   "cell_type": "code",
   "execution_count": null,
   "id": "1167ee9d-f5d0-435d-bfc7-a7cf444ceeac",
   "metadata": {},
   "outputs": [],
   "source": [
    "def read_name_folders_bucket_gcs(bucket_name):\n",
    "    \"\"\"\n",
    "    Read the name of folder inside the bucket of GCS\n",
    "    Each folder represent a diffent dataset that will be used to explore the data, train models, etc\n",
    "    \"\"\"\n",
    "    \n",
    "    # create a client of storage\n",
    "    client = storage.Client()\n",
    "    \n",
    "    \n",
    "    # acess to bucket\n",
    "    bucket = client.bucket(bucket_name)\n",
    "    \n",
    "    # list of objects in the bucket\n",
    "    blobs = list(bucket.list_blobs())\n",
    "    \n",
    "    folders = set()\n",
    "    \n",
    "    for blob in blobs:\n",
    "        # Separa el nombre del objeto por las barras diagonales\n",
    "        parts = blob.name.split('/')\n",
    "        if len(parts) > 1:\n",
    "            # Si hay más de un elemento en la lista, es un folder\n",
    "            folder_name = parts[0]\n",
    "            folders.add(folder_name)\n",
    "\n",
    "    # get a list of differents folders\n",
    "    list_folders = list(folders)\n",
    "\n",
    "    return list_folders"
   ]
  },
  {
   "cell_type": "code",
   "execution_count": null,
   "id": "9d066357-d574-47e6-aded-c79262ffb459",
   "metadata": {},
   "outputs": [],
   "source": [
    "list_id_datasets = read_name_folders_bucket_gcs(bucket_name = BUCKET_GCP)\n",
    "list_id_datasets"
   ]
  },
  {
   "cell_type": "code",
   "execution_count": null,
   "id": "639c3fc2-b61c-48df-b9c9-b91a58f3df12",
   "metadata": {},
   "outputs": [],
   "source": []
  },
  {
   "cell_type": "markdown",
   "id": "c60a1b85-162b-4418-bea7-94daebd7d3c5",
   "metadata": {},
   "source": [
    "### 2. For a specific dataset. SHOW THE MODELS (experiments) trained"
   ]
  },
  {
   "cell_type": "code",
   "execution_count": null,
   "id": "df95531c-7a48-40a9-816f-0acf60ce3dd6",
   "metadata": {},
   "outputs": [],
   "source": []
  },
  {
   "cell_type": "code",
   "execution_count": null,
   "id": "f899a0c5-5edd-4625-b07a-aefead426c48",
   "metadata": {},
   "outputs": [],
   "source": []
  }
 ],
 "metadata": {
  "kernelspec": {
   "display_name": "Python 3 (ipykernel)",
   "language": "python",
   "name": "python3"
  },
  "language_info": {
   "codemirror_mode": {
    "name": "ipython",
    "version": 3
   },
   "file_extension": ".py",
   "mimetype": "text/x-python",
   "name": "python",
   "nbconvert_exporter": "python",
   "pygments_lexer": "ipython3",
   "version": "3.10.14"
  }
 },
 "nbformat": 4,
 "nbformat_minor": 5
}
