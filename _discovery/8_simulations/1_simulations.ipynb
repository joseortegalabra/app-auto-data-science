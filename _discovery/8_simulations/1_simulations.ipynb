{
 "cells": [
  {
   "cell_type": "markdown",
   "id": "00250db6-41eb-4453-972e-1d60e3925536",
   "metadata": {},
   "source": [
    "# Simulations\n",
    "Use one of the model trained to simulations. The user define the inputs of the models and the model, and the app return the prediction of this model\n",
    "\n",
    "**It is necesary have the codes of simulations in a cloud function**"
   ]
  },
  {
   "cell_type": "code",
   "execution_count": 1,
   "id": "0fda82c7-3736-43c1-8840-d408b67e04aa",
   "metadata": {},
   "outputs": [],
   "source": [
    "# ---------------------------- read env variables used in the app ----------------------------\n",
    "import os\n",
    "from dotenv import load_dotenv, find_dotenv\n",
    "load_dotenv(find_dotenv())\n",
    "PROJECT_GCP = os.environ.get(\"PROJECT_GCP\", \"\")\n",
    "REGION_GCP = os.environ.get(\"REGION_GCP\", \"\")\n",
    "BUCKET_GCP = os.environ.get(\"BUCKET_GCP\", \"\")"
   ]
  },
  {
   "cell_type": "code",
   "execution_count": null,
   "id": "9d24f19d-3333-4db6-b509-8317f4225ee0",
   "metadata": {},
   "outputs": [],
   "source": []
  },
  {
   "cell_type": "code",
   "execution_count": null,
   "id": "61e31033-93fe-4892-9baf-30d958606d0a",
   "metadata": {},
   "outputs": [],
   "source": []
  },
  {
   "cell_type": "markdown",
   "id": "84751df6-827f-46c9-893c-14243a5a136f",
   "metadata": {},
   "source": [
    "## I) PACKAGES"
   ]
  },
  {
   "cell_type": "code",
   "execution_count": 2,
   "id": "9f368742-46a3-44d2-9332-06028d9fc210",
   "metadata": {},
   "outputs": [],
   "source": [
    "import pandas as pd\n",
    "import numpy as np\n",
    "import gcsfs\n",
    "import json"
   ]
  },
  {
   "cell_type": "code",
   "execution_count": null,
   "id": "8ca9cf75-9cf6-4571-8941-c45c373c30be",
   "metadata": {},
   "outputs": [],
   "source": []
  },
  {
   "cell_type": "code",
   "execution_count": null,
   "id": "80597627-1241-42d7-929e-126bf5b5925d",
   "metadata": {},
   "outputs": [],
   "source": []
  },
  {
   "cell_type": "markdown",
   "id": "49cafe02-35ec-40e2-bc66-ab7d18dcfbb3",
   "metadata": {},
   "source": [
    "## II) LOAD ARTIFACTS MODEL"
   ]
  },
  {
   "cell_type": "markdown",
   "id": "70748930-8bbd-4887-b717-68ca4afb9272",
   "metadata": {},
   "source": [
    "### 1. Load model name - SELECTED BY THE USER\n",
    "The user needs to specify:\n",
    "- EXPERIMENT (vertex experiment): the name of the dataset loaded\n",
    "- RUN (vertex experiment): the name of the model to evaluate"
   ]
  },
  {
   "cell_type": "code",
   "execution_count": 3,
   "id": "f733e266-83bb-4e33-a3ed-e8bd05592b24",
   "metadata": {},
   "outputs": [],
   "source": [
    "# PARAMETERS BY THE USER\n",
    "NAME_DATASET = 'develop-app-final-v2'\n",
    "SELECTED_RUN = 'run-lr'"
   ]
  },
  {
   "cell_type": "code",
   "execution_count": null,
   "id": "f691b5a9-712a-46b1-bd92-2dbf03e57f1c",
   "metadata": {},
   "outputs": [],
   "source": []
  },
  {
   "cell_type": "markdown",
   "id": "46187438-49cf-4f86-a157-a0a06d731f9b",
   "metadata": {},
   "source": [
    "### 2. Load data train\n",
    "In this case the datasets are loaded using the path that was defined when the artifacts are registry in vertex experiment. And not use the native methods of vertex to get the path of the artifacts\n",
    "\n",
    "Dataset train are used to get an initial value"
   ]
  },
  {
   "cell_type": "code",
   "execution_count": 4,
   "id": "dfd0fd2f-3dd9-4a9f-b2b9-61152ee9b9ed",
   "metadata": {},
   "outputs": [],
   "source": [
    "# example path\n",
    "# f'gs://{bucket_gcs}/{experiment_name}/{run_name}/{path_artifact_locally}'"
   ]
  },
  {
   "cell_type": "code",
   "execution_count": 5,
   "id": "da5fe613-9e9d-4372-9816-b69cc4d47edf",
   "metadata": {},
   "outputs": [],
   "source": [
    "# X_train\n",
    "path_X_train = f'gs://{BUCKET_GCP}/{NAME_DATASET}/{SELECTED_RUN}/X_train.pkl'\n",
    "X_train = pd.read_pickle(path_X_train)\n",
    "\n",
    "# y_train\n",
    "path_y_train = f'gs://{BUCKET_GCP}/{NAME_DATASET}/{SELECTED_RUN}/y_train.pkl'\n",
    "y_train = pd.read_pickle(path_y_train)"
   ]
  },
  {
   "cell_type": "code",
   "execution_count": null,
   "id": "fcc65790-d8a4-4fd9-bd34-a32ee813371b",
   "metadata": {},
   "outputs": [],
   "source": []
  },
  {
   "cell_type": "markdown",
   "id": "7c821d47-e0e5-4268-803f-d1713e49fd2c",
   "metadata": {},
   "source": [
    "### 3. Load model trained"
   ]
  },
  {
   "cell_type": "code",
   "execution_count": 6,
   "id": "3afff1ce-d4b5-4d68-b8c9-3a439d2acda6",
   "metadata": {},
   "outputs": [
    {
     "data": {
      "text/html": [
       "<style>#sk-container-id-1 {color: black;}#sk-container-id-1 pre{padding: 0;}#sk-container-id-1 div.sk-toggleable {background-color: white;}#sk-container-id-1 label.sk-toggleable__label {cursor: pointer;display: block;width: 100%;margin-bottom: 0;padding: 0.3em;box-sizing: border-box;text-align: center;}#sk-container-id-1 label.sk-toggleable__label-arrow:before {content: \"▸\";float: left;margin-right: 0.25em;color: #696969;}#sk-container-id-1 label.sk-toggleable__label-arrow:hover:before {color: black;}#sk-container-id-1 div.sk-estimator:hover label.sk-toggleable__label-arrow:before {color: black;}#sk-container-id-1 div.sk-toggleable__content {max-height: 0;max-width: 0;overflow: hidden;text-align: left;background-color: #f0f8ff;}#sk-container-id-1 div.sk-toggleable__content pre {margin: 0.2em;color: black;border-radius: 0.25em;background-color: #f0f8ff;}#sk-container-id-1 input.sk-toggleable__control:checked~div.sk-toggleable__content {max-height: 200px;max-width: 100%;overflow: auto;}#sk-container-id-1 input.sk-toggleable__control:checked~label.sk-toggleable__label-arrow:before {content: \"▾\";}#sk-container-id-1 div.sk-estimator input.sk-toggleable__control:checked~label.sk-toggleable__label {background-color: #d4ebff;}#sk-container-id-1 div.sk-label input.sk-toggleable__control:checked~label.sk-toggleable__label {background-color: #d4ebff;}#sk-container-id-1 input.sk-hidden--visually {border: 0;clip: rect(1px 1px 1px 1px);clip: rect(1px, 1px, 1px, 1px);height: 1px;margin: -1px;overflow: hidden;padding: 0;position: absolute;width: 1px;}#sk-container-id-1 div.sk-estimator {font-family: monospace;background-color: #f0f8ff;border: 1px dotted black;border-radius: 0.25em;box-sizing: border-box;margin-bottom: 0.5em;}#sk-container-id-1 div.sk-estimator:hover {background-color: #d4ebff;}#sk-container-id-1 div.sk-parallel-item::after {content: \"\";width: 100%;border-bottom: 1px solid gray;flex-grow: 1;}#sk-container-id-1 div.sk-label:hover label.sk-toggleable__label {background-color: #d4ebff;}#sk-container-id-1 div.sk-serial::before {content: \"\";position: absolute;border-left: 1px solid gray;box-sizing: border-box;top: 0;bottom: 0;left: 50%;z-index: 0;}#sk-container-id-1 div.sk-serial {display: flex;flex-direction: column;align-items: center;background-color: white;padding-right: 0.2em;padding-left: 0.2em;position: relative;}#sk-container-id-1 div.sk-item {position: relative;z-index: 1;}#sk-container-id-1 div.sk-parallel {display: flex;align-items: stretch;justify-content: center;background-color: white;position: relative;}#sk-container-id-1 div.sk-item::before, #sk-container-id-1 div.sk-parallel-item::before {content: \"\";position: absolute;border-left: 1px solid gray;box-sizing: border-box;top: 0;bottom: 0;left: 50%;z-index: -1;}#sk-container-id-1 div.sk-parallel-item {display: flex;flex-direction: column;z-index: 1;position: relative;background-color: white;}#sk-container-id-1 div.sk-parallel-item:first-child::after {align-self: flex-end;width: 50%;}#sk-container-id-1 div.sk-parallel-item:last-child::after {align-self: flex-start;width: 50%;}#sk-container-id-1 div.sk-parallel-item:only-child::after {width: 0;}#sk-container-id-1 div.sk-dashed-wrapped {border: 1px dashed gray;margin: 0 0.4em 0.5em 0.4em;box-sizing: border-box;padding-bottom: 0.4em;background-color: white;}#sk-container-id-1 div.sk-label label {font-family: monospace;font-weight: bold;display: inline-block;line-height: 1.2em;}#sk-container-id-1 div.sk-label-container {text-align: center;}#sk-container-id-1 div.sk-container {/* jupyter's `normalize.less` sets `[hidden] { display: none; }` but bootstrap.min.css set `[hidden] { display: none !important; }` so we also need the `!important` here to be able to override the default hidden behavior on the sphinx rendered scikit-learn.org. See: https://github.com/scikit-learn/scikit-learn/issues/21755 */display: inline-block !important;position: relative;}#sk-container-id-1 div.sk-text-repr-fallback {display: none;}</style><div id=\"sk-container-id-1\" class=\"sk-top-container\"><div class=\"sk-text-repr-fallback\"><pre>LinearRegression()</pre><b>In a Jupyter environment, please rerun this cell to show the HTML representation or trust the notebook. <br />On GitHub, the HTML representation is unable to render, please try loading this page with nbviewer.org.</b></div><div class=\"sk-container\" hidden><div class=\"sk-item\"><div class=\"sk-estimator sk-toggleable\"><input class=\"sk-toggleable__control sk-hidden--visually\" id=\"sk-estimator-id-1\" type=\"checkbox\" checked><label for=\"sk-estimator-id-1\" class=\"sk-toggleable__label sk-toggleable__label-arrow\">LinearRegression</label><div class=\"sk-toggleable__content\"><pre>LinearRegression()</pre></div></div></div></div></div>"
      ],
      "text/plain": [
       "LinearRegression()"
      ]
     },
     "execution_count": 6,
     "metadata": {},
     "output_type": "execute_result"
    }
   ],
   "source": [
    "# load model\n",
    "path_model = f'gs://{BUCKET_GCP}/{NAME_DATASET}/{SELECTED_RUN}/model.pkl'\n",
    "model = pd.read_pickle(path_model)\n",
    "model"
   ]
  },
  {
   "cell_type": "code",
   "execution_count": null,
   "id": "fe74064c-7032-41d3-b033-eddcb63a133f",
   "metadata": {},
   "outputs": [],
   "source": []
  },
  {
   "cell_type": "markdown",
   "id": "a4720cec-75ed-4564-a4df-6b038fee9064",
   "metadata": {},
   "source": [
    "### 4. Load list features"
   ]
  },
  {
   "cell_type": "code",
   "execution_count": 7,
   "id": "3764299c-d819-4f5e-9c4e-e6d5864d102a",
   "metadata": {},
   "outputs": [],
   "source": [
    "list_features = X_train.columns.tolist()\n",
    "\n",
    "list_target = y_train.columns.tolist()\n",
    "\n",
    "list_features_target = list_features + list_target"
   ]
  },
  {
   "cell_type": "code",
   "execution_count": null,
   "id": "4c46bf6a-c3c6-43e2-920c-bfdfacc3801a",
   "metadata": {},
   "outputs": [],
   "source": []
  },
  {
   "cell_type": "code",
   "execution_count": null,
   "id": "694fbb04-fe90-41b5-a019-1024608101cf",
   "metadata": {},
   "outputs": [],
   "source": []
  },
  {
   "cell_type": "markdown",
   "id": "a4fec9b1-4514-4559-ae02-506830ac9bf5",
   "metadata": {},
   "source": [
    "## III) SIMULATIONS"
   ]
  },
  {
   "cell_type": "markdown",
   "id": "3932d5ee-1259-47ce-a933-448547663472",
   "metadata": {},
   "source": [
    "### 0. Read json config"
   ]
  },
  {
   "cell_type": "code",
   "execution_count": 8,
   "id": "8c5bc546-f0a5-4390-9e02-804ccc23529c",
   "metadata": {},
   "outputs": [],
   "source": [
    "def read_json_config(bucket_gcp, name_dataset):\n",
    "    \"\"\"\n",
    "    Read json config\n",
    "    \"\"\"\n",
    "    # connect to GCS as pythonic way\n",
    "    fs = gcsfs.GCSFileSystem()\n",
    "    \n",
    "    # path json\n",
    "    path_gcs_json = f'gs://{bucket_gcp}/{name_dataset}/data/parameters.json'\n",
    "    \n",
    "    # read json\n",
    "    with fs.open(path_gcs_json, 'r') as file:\n",
    "        dict_parameters_data = json.load(file)\n",
    "    \n",
    "    return dict_parameters_data"
   ]
  },
  {
   "cell_type": "code",
   "execution_count": 9,
   "id": "876c61a5-cb16-4ec7-bf07-9c885392d46a",
   "metadata": {},
   "outputs": [],
   "source": [
    "dict_parameters_data = read_json_config(BUCKET_GCP, NAME_DATASET)\n",
    "# forecast\n",
    "steps_forecast = dict_parameters_data['steps_forecast']"
   ]
  },
  {
   "cell_type": "code",
   "execution_count": null,
   "id": "a532be0d-6c5e-4575-8fe5-fa132f83a857",
   "metadata": {},
   "outputs": [],
   "source": []
  },
  {
   "cell_type": "code",
   "execution_count": null,
   "id": "d582acd8-f256-4728-8ea3-1aa59c5b5e26",
   "metadata": {},
   "outputs": [],
   "source": []
  },
  {
   "cell_type": "markdown",
   "id": "d36f22f2-c67f-40c2-b4cb-f24c2f933551",
   "metadata": {},
   "source": [
    "### 1. Get initial values"
   ]
  },
  {
   "cell_type": "markdown",
   "id": "2d16cce1-3e07-40e2-83f3-28c23474bded",
   "metadata": {},
   "source": [
    "#### 1.1 Calculate min and max value of each feature"
   ]
  },
  {
   "cell_type": "code",
   "execution_count": 10,
   "id": "4973433d-bde7-4330-81ea-8d8a3a5f41b4",
   "metadata": {},
   "outputs": [
    {
     "data": {
      "text/plain": [
       "CMPC.SN     1852.572550\n",
       "CHILE.SN      56.518215\n",
       "COPEC.SN    7707.690430\n",
       "MSFT         208.021673\n",
       "AAPL         117.101184\n",
       "GOOG          86.740835\n",
       "TSLA         198.043335\n",
       "O             48.015911\n",
       "BHP           53.130472\n",
       "dtype: float64"
      ]
     },
     "execution_count": 10,
     "metadata": {},
     "output_type": "execute_result"
    }
   ],
   "source": [
    "min_values_features = X_train.min()\n",
    "min_values_features"
   ]
  },
  {
   "cell_type": "code",
   "execution_count": 11,
   "id": "e944bab0-420d-4bcb-b537-9cae6919f7d5",
   "metadata": {},
   "outputs": [
    {
     "data": {
      "text/plain": [
       "CMPC.SN     2232.611247\n",
       "CHILE.SN      68.359014\n",
       "COPEC.SN    9028.075195\n",
       "MSFT         252.983510\n",
       "AAPL         140.057912\n",
       "GOOG         114.947001\n",
       "TSLA         292.005564\n",
       "O             57.970872\n",
       "BHP           63.351933\n",
       "dtype: float64"
      ]
     },
     "execution_count": 11,
     "metadata": {},
     "output_type": "execute_result"
    }
   ],
   "source": [
    "max_values_features = X_train.max()\n",
    "max_values_features"
   ]
  },
  {
   "cell_type": "code",
   "execution_count": null,
   "id": "66e7547a-06a0-4577-b4f8-bc38a8454598",
   "metadata": {},
   "outputs": [],
   "source": []
  },
  {
   "cell_type": "code",
   "execution_count": null,
   "id": "57ccfd53-d920-4346-8648-4337e8963a99",
   "metadata": {},
   "outputs": [],
   "source": []
  },
  {
   "cell_type": "markdown",
   "id": "49db5102-25db-4681-97e8-f6e973e12d74",
   "metadata": {},
   "source": [
    "#### 1.2 Calculate min and max date to get the initial value"
   ]
  },
  {
   "cell_type": "code",
   "execution_count": 12,
   "id": "10208b9d-49a1-46cf-89c6-f9764864534d",
   "metadata": {},
   "outputs": [
    {
     "name": "stdout",
     "output_type": "stream",
     "text": [
      "2021-01-06 00:00:00\n",
      "2021-04-22 00:00:00\n",
      "2021-03-02 00:00:00\n"
     ]
    }
   ],
   "source": [
    "# min date\n",
    "min_date = X_train.index.min()\n",
    "\n",
    "# max date\n",
    "max_date = X_train.index.max()\n",
    "\n",
    "# median date\n",
    "index_median = round(X_train.index.shape[0] / 2, 0)\n",
    "median_date = X_train.iloc[[index_median], :].index[0]\n",
    "\n",
    "print(min_date)\n",
    "print(max_date)\n",
    "print(median_date)"
   ]
  },
  {
   "cell_type": "code",
   "execution_count": null,
   "id": "61000fbc-43f3-4946-853f-354b7e97ef5e",
   "metadata": {},
   "outputs": [],
   "source": []
  },
  {
   "cell_type": "code",
   "execution_count": 13,
   "id": "d1521f4d-faad-42af-969c-4eea2e5a8750",
   "metadata": {},
   "outputs": [
    {
     "ename": "NameError",
     "evalue": "name 'stop' is not defined",
     "output_type": "error",
     "traceback": [
      "\u001b[1;31m---------------------------------------------------------------------------\u001b[0m",
      "\u001b[1;31mNameError\u001b[0m                                 Traceback (most recent call last)",
      "Cell \u001b[1;32mIn[13], line 1\u001b[0m\n\u001b[1;32m----> 1\u001b[0m \u001b[43mstop\u001b[49m\n",
      "\u001b[1;31mNameError\u001b[0m: name 'stop' is not defined"
     ]
    }
   ],
   "source": [
    "stop"
   ]
  },
  {
   "cell_type": "code",
   "execution_count": null,
   "id": "dc6b94b2-3565-4ab7-9d6b-53dddfe290f7",
   "metadata": {},
   "outputs": [],
   "source": []
  },
  {
   "cell_type": "markdown",
   "id": "765eea0c-32a1-415e-bb6a-8b586d08aa27",
   "metadata": {},
   "source": [
    "#### 1.3 Given a certain date, get the initial values"
   ]
  },
  {
   "cell_type": "code",
   "execution_count": 15,
   "id": "299e4ec9-e8e2-4083-9ad3-7e3e74ec41db",
   "metadata": {},
   "outputs": [],
   "source": [
    "#### SELECT A INITIAL DATE FROM CALENDER\n",
    "INITIAL_DATE = '2021-02-27'"
   ]
  },
  {
   "cell_type": "code",
   "execution_count": null,
   "id": "d37372df-3086-4b37-804b-2d27b2d259f5",
   "metadata": {},
   "outputs": [],
   "source": []
  },
  {
   "cell_type": "code",
   "execution_count": null,
   "id": "7010bcfc-2ecb-459b-a614-415460188d8b",
   "metadata": {},
   "outputs": [],
   "source": []
  },
  {
   "cell_type": "markdown",
   "id": "7c6c8c60-bfb1-4519-920d-2480423ddaf7",
   "metadata": {},
   "source": [
    "#### 1.4 Get Initial Instance to do Inference"
   ]
  },
  {
   "cell_type": "code",
   "execution_count": 16,
   "id": "41c3bf42-d9b4-4b7b-9976-718e986cd827",
   "metadata": {},
   "outputs": [],
   "source": [
    "#### GET DATA FROM DATE SELECTED\n",
    "\n",
    "# transform string into datetime format pandas\n",
    "initial_date_to_inference = pd.Timestamp(INITIAL_DATE)\n",
    "\n",
    "# try get the row of the initial date - if the date doesn't exist, search the most close date\n",
    "try:\n",
    "    initial_instance = X_train.loc[[initial_date_to_inference]]\n",
    "except KeyError:\n",
    "    #closest_date = X_train.index[(X_train.index - initial_date_to_inference).argmin()] # this has negative values\n",
    "    closest_date = X_train.index[np.abs((X_train.index - initial_date_to_inference)).argmin()]\n",
    "    initial_instance = X_train.loc[[closest_date]]"
   ]
  },
  {
   "cell_type": "code",
   "execution_count": 17,
   "id": "e1ef5730-28a3-4a7b-9056-67fdf9bb4adf",
   "metadata": {},
   "outputs": [
    {
     "data": {
      "text/html": [
       "<div>\n",
       "<style scoped>\n",
       "    .dataframe tbody tr th:only-of-type {\n",
       "        vertical-align: middle;\n",
       "    }\n",
       "\n",
       "    .dataframe tbody tr th {\n",
       "        vertical-align: top;\n",
       "    }\n",
       "\n",
       "    .dataframe thead th {\n",
       "        text-align: right;\n",
       "    }\n",
       "</style>\n",
       "<table border=\"1\" class=\"dataframe\">\n",
       "  <thead>\n",
       "    <tr style=\"text-align: right;\">\n",
       "      <th></th>\n",
       "      <th>CMPC.SN</th>\n",
       "      <th>CHILE.SN</th>\n",
       "      <th>COPEC.SN</th>\n",
       "      <th>MSFT</th>\n",
       "      <th>AAPL</th>\n",
       "      <th>GOOG</th>\n",
       "      <th>TSLA</th>\n",
       "      <th>O</th>\n",
       "      <th>BHP</th>\n",
       "    </tr>\n",
       "    <tr>\n",
       "      <th>Date</th>\n",
       "      <th></th>\n",
       "      <th></th>\n",
       "      <th></th>\n",
       "      <th></th>\n",
       "      <th></th>\n",
       "      <th></th>\n",
       "      <th></th>\n",
       "      <th></th>\n",
       "      <th></th>\n",
       "    </tr>\n",
       "  </thead>\n",
       "  <tbody>\n",
       "    <tr>\n",
       "      <th>2021-02-26</th>\n",
       "      <td>2012.220459</td>\n",
       "      <td>60.380447</td>\n",
       "      <td>8218.581055</td>\n",
       "      <td>226.008748</td>\n",
       "      <td>120.43308</td>\n",
       "      <td>102.723167</td>\n",
       "      <td>233.304443</td>\n",
       "      <td>51.26775</td>\n",
       "      <td>61.722312</td>\n",
       "    </tr>\n",
       "  </tbody>\n",
       "</table>\n",
       "</div>"
      ],
      "text/plain": [
       "                CMPC.SN   CHILE.SN     COPEC.SN        MSFT       AAPL  \\\n",
       "Date                                                                     \n",
       "2021-02-26  2012.220459  60.380447  8218.581055  226.008748  120.43308   \n",
       "\n",
       "                  GOOG        TSLA         O        BHP  \n",
       "Date                                                     \n",
       "2021-02-26  102.723167  233.304443  51.26775  61.722312  "
      ]
     },
     "execution_count": 17,
     "metadata": {},
     "output_type": "execute_result"
    }
   ],
   "source": [
    "initial_instance"
   ]
  },
  {
   "cell_type": "code",
   "execution_count": 23,
   "id": "97c86d8d-1113-4da0-842c-389e064b7049",
   "metadata": {},
   "outputs": [
    {
     "data": {
      "text/plain": [
       "2012.2204589843748"
      ]
     },
     "execution_count": 23,
     "metadata": {},
     "output_type": "execute_result"
    }
   ],
   "source": [
    "initial_instance['CMPC.SN'].values[0]"
   ]
  },
  {
   "cell_type": "code",
   "execution_count": null,
   "id": "251e35c7-6cfa-41ac-8da7-f49db2377be5",
   "metadata": {},
   "outputs": [],
   "source": []
  },
  {
   "cell_type": "markdown",
   "id": "8a0cc40b-7c2d-44d7-9ae2-f3119e93e906",
   "metadata": {},
   "source": [
    "### 2. Predict with the initial value"
   ]
  },
  {
   "cell_type": "markdown",
   "id": "cc04116e-70ac-4d02-86b1-491473f725aa",
   "metadata": {},
   "source": [
    "#### 2.1 Predict with the initial value"
   ]
  },
  {
   "cell_type": "code",
   "execution_count": 18,
   "id": "0fe7cffc-d404-454f-b2e3-fad622f70fce",
   "metadata": {},
   "outputs": [
    {
     "data": {
      "text/plain": [
       "array([[336.54807089]])"
      ]
     },
     "execution_count": 18,
     "metadata": {},
     "output_type": "execute_result"
    }
   ],
   "source": [
    "prediction = model.predict(initial_instance)\n",
    "prediction"
   ]
  },
  {
   "cell_type": "markdown",
   "id": "2c0c982e-af23-4685-8831-5489e1135e75",
   "metadata": {},
   "source": [
    "#### 2.2 Show the true value of this instance"
   ]
  },
  {
   "cell_type": "code",
   "execution_count": 19,
   "id": "d6f294eb-f31a-4238-a960-443620891e4a",
   "metadata": {},
   "outputs": [],
   "source": [
    "# try get the row of the initial date - if the date doesn't exist, search the most close date\n",
    "try:\n",
    "    y_true = y_train.loc[[initial_date_to_inference]].values\n",
    "except KeyError:\n",
    "    closest_date = y_train.index[np.abs((y_train.index - initial_date_to_inference)).argmin()]\n",
    "    y_true = y_train.loc[[closest_date]].values"
   ]
  },
  {
   "cell_type": "code",
   "execution_count": 20,
   "id": "d8097ca0-39ab-42d3-9ca6-4134161b7775",
   "metadata": {},
   "outputs": [
    {
     "data": {
      "text/plain": [
       "array([[332.95641073]])"
      ]
     },
     "execution_count": 20,
     "metadata": {},
     "output_type": "execute_result"
    }
   ],
   "source": [
    "y_true"
   ]
  },
  {
   "cell_type": "code",
   "execution_count": null,
   "id": "fc2f9069-9e6e-40fe-aa2a-430214bb836a",
   "metadata": {},
   "outputs": [],
   "source": []
  },
  {
   "cell_type": "code",
   "execution_count": null,
   "id": "a0af36af-58f6-4a56-ab3b-5eab9e6d99c7",
   "metadata": {},
   "outputs": [],
   "source": []
  },
  {
   "cell_type": "code",
   "execution_count": null,
   "id": "d1177d06-6a33-4f8d-94f8-5814e7c25935",
   "metadata": {},
   "outputs": [],
   "source": []
  },
  {
   "cell_type": "code",
   "execution_count": null,
   "id": "fa1e9e6e-a526-4522-a181-a35bb5774cbc",
   "metadata": {},
   "outputs": [],
   "source": []
  }
 ],
 "metadata": {
  "kernelspec": {
   "display_name": "Python 3 (ipykernel)",
   "language": "python",
   "name": "python3"
  },
  "language_info": {
   "codemirror_mode": {
    "name": "ipython",
    "version": 3
   },
   "file_extension": ".py",
   "mimetype": "text/x-python",
   "name": "python",
   "nbconvert_exporter": "python",
   "pygments_lexer": "ipython3",
   "version": "3.10.14"
  }
 },
 "nbformat": 4,
 "nbformat_minor": 5
}
