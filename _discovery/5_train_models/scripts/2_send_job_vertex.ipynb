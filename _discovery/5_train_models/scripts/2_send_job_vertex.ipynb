{
 "cells": [
  {
   "attachments": {},
   "cell_type": "markdown",
   "id": "7c7fc6d8-2b5a-4b54-9d04-d6aad474045e",
   "metadata": {},
   "source": [
    "# TRAIN MODELS\n",
    "SEND JOB VERTEX\n",
    "\n",
    "Train differents models. Develop codes to train differents models (in this example the user can't select which models to train. So, all the models can be used)\n",
    "\n",
    "**It is necesary save in vertex experiments the result of the model trained because it is necesary to access to this information in the future**\n",
    "\n",
    "**Also it is necesary run the training of the experiments in a vertex jobs (so all of this code needs to be run in a script, with args necesary to identify the case)**\n",
    "\n",
    "-------\n",
    "Source codes tracking training: \n",
    "\n",
    "folder: https://github.com/joseortegalabra/tracking-training-ml-models/tree/main/vertex_ai\n",
    "\n",
    "notebook: https://github.com/joseortegalabra/tracking-training-ml-models/blob/main/vertex_ai/3_Vertex_AI_experiments_example.ipynb\n",
    "\n",
    "\n",
    "------\n",
    "**Source codes jobs vertex**\n",
    "\n",
    "repo: https://github.com/joseortegalabra/Jobs-Vertex-GCP\n",
    "\n",
    "folder example: https://github.com/joseortegalabra/Jobs-Vertex-GCP/tree/main/jobs_vertex_basic_v2"
   ]
  },
  {
   "cell_type": "code",
   "execution_count": null,
   "id": "90ed9a58-380e-410c-8d3f-b57fb6fd2d8e",
   "metadata": {},
   "outputs": [],
   "source": [
    "import datetime as dt\n",
    "import pandas as pd\n",
    "from google.cloud import aiplatform\n",
    "from google.cloud.aiplatform import gapic as aip"
   ]
  },
  {
   "cell_type": "code",
   "execution_count": null,
   "id": "28821ac0-e7e8-4af8-9747-9f26cb662295",
   "metadata": {},
   "outputs": [],
   "source": []
  },
  {
   "cell_type": "code",
   "execution_count": null,
   "id": "3bf4b8c0-0111-48d2-adf2-aa11f02fc7f8",
   "metadata": {},
   "outputs": [],
   "source": []
  },
  {
   "attachments": {},
   "cell_type": "markdown",
   "id": "d64f6936-d0f3-47ac-9936-564a722d1149",
   "metadata": {},
   "source": [
    "### Paso 0. Parámetros generales"
   ]
  },
  {
   "cell_type": "code",
   "execution_count": null,
   "id": "0ad7da85-9f5b-418f-9ed4-ff0ff6a9a992",
   "metadata": {},
   "outputs": [],
   "source": [
    "### PARÁMETROS GENERALES GCP - donde está ubicada la app ###\n",
    "# ---------------------------- read env variables used in the app ----------------------------\n",
    "import os\n",
    "from dotenv import load_dotenv, find_dotenv\n",
    "load_dotenv(find_dotenv())\n",
    "PROJECT_GCP = os.environ.get(\"PROJECT_GCP\", \"\")\n",
    "REGION_GCP = os.environ.get(\"REGION_GCP\", \"\")\n",
    "BUCKET_GCP = os.environ.get(\"BUCKET_GCP\", \"\")\n",
    "MAI_SA = os.environ.get(\"MAIL_SA\", \"\")"
   ]
  },
  {
   "cell_type": "code",
   "execution_count": null,
   "id": "5914a047-5d08-4943-8ccc-018ac1748e42",
   "metadata": {},
   "outputs": [],
   "source": [
    "#### DEFINE NAME OF DATASET OF DO THE TRAINING JOB\n",
    "NAME_DATASET = 'develop-app-final-v2'"
   ]
  },
  {
   "cell_type": "code",
   "execution_count": null,
   "id": "a50e79e2-9989-4cfb-aa42-c4ed331b210c",
   "metadata": {},
   "outputs": [],
   "source": []
  },
  {
   "cell_type": "code",
   "execution_count": null,
   "id": "ae33cf46-ce3f-4028-9f5c-75f2472db08e",
   "metadata": {},
   "outputs": [],
   "source": [
    "# definir un bucket (ya creado) para guardar los archivos que genera el usar VERTEX AI.\n",
    "BUCKET_ID = f'{BUCKET_GCP}/vertex-ai-jobs'"
   ]
  },
  {
   "cell_type": "code",
   "execution_count": null,
   "id": "b838c8f4-ba9a-45a4-9b00-6957ef03d1eb",
   "metadata": {},
   "outputs": [],
   "source": [
    "### PARÁMETROS GENERALES EJECUCIÓN ###\n",
    "\n",
    "# obtener la hora actual de cuándo se comenzó la ejecución - hash\n",
    "now = dt.datetime.now()\n",
    "date_time = now.strftime(\"%Y_%m_%d_%H_%M_%S\")\n",
    "\n",
    "# identificacion del tipo de caso de uso (y también tipo de modelo) que se va a usar poara registrar el entrenamiento\n",
    "identity_kind_use_case = 'auto-data-science-job'  \n",
    "\n",
    "# definir path donde se va a guardar el pkl con el modelo y que además quede registrado en modelos de vertex\n",
    "# definir path CUSTOM donde estará guardado el artefacto del modelo y el cual quedará registrado en el menu \"modelos\" de vertex\n",
    "# obligatoriamente el path debe ser \".../model/model.pkl\" por lo que la carpeta model y el artefacto model.pkl se omiten en este path\n",
    "path_artifact_model_vertex = f'gs://{BUCKET_GCP}/vertex-ai-registry-model/{NAME_DATASET}/run_{date_time}/'"
   ]
  },
  {
   "cell_type": "code",
   "execution_count": null,
   "id": "16aa5bb0-5304-4be9-a4c8-41548a87b60c",
   "metadata": {},
   "outputs": [],
   "source": []
  },
  {
   "cell_type": "code",
   "execution_count": null,
   "id": "f43608c6-b7a2-4f15-b834-f90f85356d3c",
   "metadata": {},
   "outputs": [],
   "source": [
    "print('Parámetros Generales GCP')\n",
    "print('PROJECT_GCP: ', PROJECT_GCP)\n",
    "print('BUCKET_ID: ', BUCKET_ID)\n",
    "print('REGION_GCP: ', REGION_GCP)\n",
    "\n",
    "print('\\n----')\n",
    "print('NAME DATASET - USE CASE - EXPERIMENT: ', NAME_DATASET)\n",
    "\n",
    "print('\\n----')\n",
    "print('Parámetros Específicos job entrenamiento')\n",
    "print('date_time: ', date_time)\n",
    "print('identity_kind_use_case: ', identity_kind_use_case)\n",
    "print('path_artifact_model_vertex: ', path_artifact_model_vertex)"
   ]
  },
  {
   "cell_type": "code",
   "execution_count": null,
   "id": "a3a5c49d-6002-49e9-996b-32abfb0f11f5",
   "metadata": {},
   "outputs": [],
   "source": []
  },
  {
   "attachments": {},
   "cell_type": "markdown",
   "id": "ccb9540f-8a52-4881-9b35-82c580affff6",
   "metadata": {},
   "source": [
    "### Paso 1. Crear script de entrenamiento"
   ]
  },
  {
   "cell_type": "code",
   "execution_count": null,
   "id": "f38f63ea-978d-484d-8a7a-31732ac82d43",
   "metadata": {},
   "outputs": [],
   "source": [
    "# ESCRIBIR EL SCRIPT DE ENTRENAMIENTO."
   ]
  },
  {
   "cell_type": "code",
   "execution_count": null,
   "id": "57bf0496-6cb8-4233-b372-48620066487f",
   "metadata": {},
   "outputs": [],
   "source": [
    "# Correr script de entrenamiento de forma local - solo verificar\n",
    "# %run train_model.py --id_date_time 2023_10_28_18_47_33"
   ]
  },
  {
   "cell_type": "code",
   "execution_count": null,
   "id": "d8edb594-9a41-4f97-ad22-052f1955fcb0",
   "metadata": {},
   "outputs": [],
   "source": []
  },
  {
   "attachments": {},
   "cell_type": "markdown",
   "id": "e08ad561-ba02-42c3-beed-386938c85221",
   "metadata": {},
   "source": [
    "### Paso 2: Inicializar Vertex AI"
   ]
  },
  {
   "cell_type": "code",
   "execution_count": null,
   "id": "6d022d87-5159-420e-bfb3-da14f417cd01",
   "metadata": {},
   "outputs": [],
   "source": [
    "aiplatform.init(project = PROJECT_GCP, location = REGION_GCP, staging_bucket = BUCKET_ID)"
   ]
  },
  {
   "cell_type": "code",
   "execution_count": null,
   "id": "a44aa64b-0fa5-4f1e-90fe-793432e2d5bf",
   "metadata": {},
   "outputs": [],
   "source": []
  },
  {
   "attachments": {},
   "cell_type": "markdown",
   "id": "9f91ab47-0ab9-4aec-85b3-5745690a5ca1",
   "metadata": {},
   "source": [
    "### Paso 3. Definir parámetros necesarios para CREAR la instancia del job de entrenamiento"
   ]
  },
  {
   "cell_type": "code",
   "execution_count": null,
   "id": "0da08a45-5221-4882-8d9a-d4543851336f",
   "metadata": {},
   "outputs": [],
   "source": [
    "### definir el nombre del job que se enviará. Algo que indentifique de qué es el job + hora envio ###\n",
    "job_name = identity_kind_use_case + '__job_train__' + date_time\n",
    "job_name"
   ]
  },
  {
   "cell_type": "code",
   "execution_count": null,
   "id": "f81e75bd-fb8b-408d-a619-b4e0f58ac0d0",
   "metadata": {},
   "outputs": [],
   "source": [
    "### definir el contrainer para el ENTRENAMIENTO y para LA PREDICCIÓN - facilitados por google ####\n",
    "#container_train = 'us-docker.pkg.dev/vertex-ai/training/scikit-learn-cpu.0-23:latest' \n",
    "\n",
    "container_train = 'us-docker.pkg.dev/vertex-ai/training/tf-cpu.2-12.py310:latest'\n",
    "container_deploy = 'us-docker.pkg.dev/vertex-ai/prediction/sklearn-cpu.0-23:latest' # solo utilizado para servicios de deploy y predicción batch de vertex"
   ]
  },
  {
   "cell_type": "code",
   "execution_count": null,
   "id": "b90bc95b-92fe-4f38-8207-5e0ed6f9d239",
   "metadata": {},
   "outputs": [],
   "source": []
  },
  {
   "cell_type": "code",
   "execution_count": null,
   "id": "d28e8d99-8603-479e-88fa-e35af0ee30db",
   "metadata": {},
   "outputs": [],
   "source": [
    "### definir el path al script de entrenamiento ###\n",
    "path_train_script = 'task_train_models.py'"
   ]
  },
  {
   "cell_type": "code",
   "execution_count": null,
   "id": "2b05025e-b6cd-49b1-b5b8-dd36f5ff04be",
   "metadata": {},
   "outputs": [],
   "source": [
    "### definir la descripción del modelo ###\n",
    "description = 'entrenar modelo leyendo pkl de GCS'"
   ]
  },
  {
   "cell_type": "code",
   "execution_count": null,
   "id": "3551ec93-e15d-42c3-94fa-8f30cf2f47f0",
   "metadata": {},
   "outputs": [],
   "source": [
    "### definir los requirements ###\n",
    "#list_requirements = [\"google-cloud-bigquery==3.11.4\", \"db-dtypes\", \"gcsfs==2023.9.2\", \"pandas==2.0.3\", \"numpy==1.23.5\", \"scikit-learn==1.3.1\"]\n",
    "list_requirements = [\"pandas\", \"matplotlib\", \"seaborn\", \"plotly\", \"numpy\", \"scikit-learn\", \"python-dotenv\", \"gcsfs\", \\\n",
    "                     \"joblib\", \"openpyxl\", \"google-cloud-bigquery\", \"db-dtypes\", \"google-cloud-aiplatform\"]"
   ]
  },
  {
   "cell_type": "code",
   "execution_count": null,
   "id": "e70646dc-28af-4fb0-b234-cf61ef4cf618",
   "metadata": {},
   "outputs": [],
   "source": []
  },
  {
   "attachments": {},
   "cell_type": "markdown",
   "id": "2c140376-6c0d-462c-a315-a8fdd4b1871a",
   "metadata": {},
   "source": [
    "### Paso 4. Definir parámetros necesarios para ENVIAR job de entrenamiento - usando CPU"
   ]
  },
  {
   "cell_type": "code",
   "execution_count": null,
   "id": "5e445f2c-7247-4274-8ec8-5d601dddf0b7",
   "metadata": {},
   "outputs": [],
   "source": [
    "### definir el nombre con el que queda registrado (en VERTEX AI) el modelo resultado del entrenamiento ###\n",
    "# De qué es el modelo +  hora de envio\n",
    "model_name = identity_kind_use_case  + '__model__' + date_time \n",
    "model_name"
   ]
  },
  {
   "cell_type": "code",
   "execution_count": null,
   "id": "cf300ff9-d2c0-441b-8bd4-6af36cd75793",
   "metadata": {},
   "outputs": [],
   "source": [
    "### definir el tipo de máquina para hacer el entrenamiento ###\n",
    "\n",
    "machine_type_train = \"n1-standard\"\n",
    "vcpu_train = \"4\"\n",
    "train_compute = machine_type_train + \"-\" + vcpu_train\n",
    "\n",
    "print(\"Train machine type: \", train_compute)"
   ]
  },
  {
   "cell_type": "code",
   "execution_count": null,
   "id": "e7944053-0e9b-46c9-b26f-d2613b3ea147",
   "metadata": {},
   "outputs": [],
   "source": []
  },
  {
   "attachments": {},
   "cell_type": "markdown",
   "id": "13db567a-76d7-4d08-8ed7-5a79b05ed440",
   "metadata": {},
   "source": [
    "### Paso 5. Crear instancia del job de entrenamiento a VERTEX AI (CustomTrainingJob)"
   ]
  },
  {
   "cell_type": "code",
   "execution_count": null,
   "id": "560c16ba-3283-442d-a5b3-c794ba7ac80f",
   "metadata": {},
   "outputs": [],
   "source": [
    "# PRIMERO SE LLAMA UNA INSTANCIA DE LA CLASE\n",
    "job = aiplatform.CustomTrainingJob(\n",
    "    display_name = job_name,\n",
    "    script_path = path_train_script,\n",
    "    model_description = description,\n",
    "    container_uri = container_train,\n",
    "    requirements = list_requirements,\n",
    "    model_serving_container_image_uri = container_deploy,\n",
    ")"
   ]
  },
  {
   "cell_type": "code",
   "execution_count": null,
   "id": "4241d459-6a96-44eb-a4a6-7b64ea385a69",
   "metadata": {},
   "outputs": [],
   "source": [
    "job"
   ]
  },
  {
   "cell_type": "code",
   "execution_count": null,
   "id": "bf5f120d-ede4-49f6-bcd6-104da3f56470",
   "metadata": {},
   "outputs": [],
   "source": []
  },
  {
   "attachments": {},
   "cell_type": "markdown",
   "id": "6d824845-1ab9-4b05-a6cc-51a832ca1940",
   "metadata": {},
   "source": [
    "### Paso 6. Enviar el job de entrenamiento a VERTEX AI (CustomTrainingJob)\n",
    "- Importante 4. Para que **no aparesca el texto que está corriendo el job y se pueda seguir utilizando el código se puede utilizar el parámetro \"sync\" y setear en \"False\"**"
   ]
  },
  {
   "cell_type": "code",
   "execution_count": null,
   "id": "204773c0-9572-48ad-b1b4-e49ad3ef21c7",
   "metadata": {},
   "outputs": [],
   "source": [
    "# # original\n",
    "\n",
    "# model = job.run(\n",
    "#     model_display_name = model_name,\n",
    "#     replica_count = 1,\n",
    "#     machine_type = train_compute,\n",
    "#     base_output_dir = path_artifact_model_vertex, # path custom .../model/model.pkl donde se guarda el pkl del modelo. se omite del path model/model.pkl\n",
    "#     args = [\"--id_date_time=\" + date_time, \"--name_dataset=\" + NAME_DATASET], # args que se le pasan al script de entrenamiento de este ejemplo\n",
    "#     sync = True\n",
    "# )"
   ]
  },
  {
   "cell_type": "code",
   "execution_count": null,
   "id": "bc711308-8cb5-4f5e-92b1-ecebf637ecc1",
   "metadata": {},
   "outputs": [],
   "source": [
    "# add SA\n",
    "model = job.run(\n",
    "    model_display_name = model_name,\n",
    "    replica_count = 1,\n",
    "    machine_type = train_compute,\n",
    "    base_output_dir = path_artifact_model_vertex, # path custom .../model/model.pkl donde se guarda el pkl del modelo. se omite del path model/model.pkl\n",
    "    args = [\"--id_date_time=\" + date_time, \"--name_dataset=\" + NAME_DATASET], # args que se le pasan al script de entrenamiento de este ejemplo\n",
    "    sync = True,\n",
    "    service_account = f\"{MAI_SA}@{PROJECT_GCP}.iam.gserviceaccount.com\"\n",
    ")"
   ]
  },
  {
   "cell_type": "code",
   "execution_count": null,
   "id": "98470574-fdae-43a2-a22c-f17bd81c57b7",
   "metadata": {},
   "outputs": [],
   "source": []
  },
  {
   "cell_type": "code",
   "execution_count": null,
   "id": "d0d602fa-a546-4cd7-8cbb-9623c8de7965",
   "metadata": {},
   "outputs": [],
   "source": []
  }
 ],
 "metadata": {
  "environment": {
   "kernel": "python3",
   "name": "common-cpu.m108",
   "type": "gcloud",
   "uri": "gcr.io/deeplearning-platform-release/base-cpu:m108"
  },
  "kernelspec": {
   "display_name": "Python 3 (ipykernel)",
   "language": "python",
   "name": "python3"
  },
  "language_info": {
   "codemirror_mode": {
    "name": "ipython",
    "version": 3
   },
   "file_extension": ".py",
   "mimetype": "text/x-python",
   "name": "python",
   "nbconvert_exporter": "python",
   "pygments_lexer": "ipython3",
   "version": "3.10.14"
  }
 },
 "nbformat": 4,
 "nbformat_minor": 5
}
