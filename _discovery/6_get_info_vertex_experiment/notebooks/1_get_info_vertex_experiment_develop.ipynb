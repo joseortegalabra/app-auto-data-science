{
 "cells": [
  {
   "cell_type": "markdown",
   "id": "1f09a41d-f5f9-4b5e-990f-15fb2625ffec",
   "metadata": {},
   "source": [
    "# Get model vertex experiment\n",
    "Get information of trainning of the models saved in vertex experiment (get the model name, metrics, params and artifacts). This information will be showed in the app when the user want to see the information of trainning\n",
    "\n",
    "---------\n",
    "\n",
    "Source codes: \n",
    "\n",
    "folder: https://github.com/joseortegalabra/tracking-training-ml-models/tree/main/vertex_ai\n",
    "\n",
    "specific notebook: https://github.com/joseortegalabra/tracking-training-ml-models/blob/main/vertex_ai/0_Vertex_AI_experiments_intro.ipynb"
   ]
  },
  {
   "cell_type": "code",
   "execution_count": 1,
   "id": "0d6abc5a-ec76-4978-a96a-0b93e22b8ad9",
   "metadata": {},
   "outputs": [],
   "source": [
    "# ---------------------------- read env variables used in the app ----------------------------\n",
    "import os\n",
    "from dotenv import load_dotenv, find_dotenv\n",
    "load_dotenv(find_dotenv())\n",
    "PROJECT_GCP = os.environ.get(\"PROJECT_GCP\", \"\")\n",
    "REGION_GCP = os.environ.get(\"REGION_GCP\", \"\")\n",
    "BUCKET_GCP = os.environ.get(\"BUCKET_GCP\", \"\")"
   ]
  },
  {
   "cell_type": "code",
   "execution_count": null,
   "id": "553fe65f-9802-4525-8fda-974ff3b76f7a",
   "metadata": {},
   "outputs": [],
   "source": []
  },
  {
   "cell_type": "markdown",
   "id": "c3b98039-cf9f-4287-b1e9-476d8f126c3c",
   "metadata": {},
   "source": [
    "## RUN"
   ]
  },
  {
   "cell_type": "code",
   "execution_count": 2,
   "id": "d5556acc-1073-406e-8068-9b54d050a63b",
   "metadata": {},
   "outputs": [],
   "source": [
    "import pandas as pd\n",
    "import numpy as np\n",
    "import gcsfs\n",
    "import json\n",
    "import matplotlib.pyplot as plt\n",
    "import matplotlib.image as mpimg\n",
    "import joblib"
   ]
  },
  {
   "cell_type": "code",
   "execution_count": 3,
   "id": "e5018c4f-aefa-4167-badd-aaa119c8ea31",
   "metadata": {},
   "outputs": [],
   "source": [
    "# vertex gcp\n",
    "from google.cloud import aiplatform as vertex_ai\n",
    "from google.cloud import storage"
   ]
  },
  {
   "cell_type": "code",
   "execution_count": null,
   "id": "0e50f14f-aea2-4a23-a7e5-4837c4f4c3d2",
   "metadata": {},
   "outputs": [],
   "source": []
  },
  {
   "cell_type": "markdown",
   "id": "ee55c401-9e16-4816-bef7-ff6c92040014",
   "metadata": {},
   "source": [
    "### 1. Read parameters of the dataset\n",
    "Dataset to do the EDA"
   ]
  },
  {
   "cell_type": "code",
   "execution_count": 4,
   "id": "cc06999f-9990-405a-a0b4-bd60a70b7867",
   "metadata": {},
   "outputs": [],
   "source": [
    "# define name of the dataset - the user need to define it - ID\n",
    "NAME_DATASET = 'develop-app-final-v2'"
   ]
  },
  {
   "cell_type": "code",
   "execution_count": null,
   "id": "f33f7f63-6f35-4e86-8d18-becbd8046927",
   "metadata": {},
   "outputs": [],
   "source": []
  },
  {
   "cell_type": "markdown",
   "id": "1e0bb311-73e4-41d7-9dd1-6213235a2122",
   "metadata": {},
   "source": [
    "### 2. Auxiliar functions to connect to Vertex\n",
    "These auxiliar functions are the same used in the codes to train the models"
   ]
  },
  {
   "cell_type": "code",
   "execution_count": 5,
   "id": "b03220cc-39ab-4f9f-a199-a6de774e044d",
   "metadata": {},
   "outputs": [],
   "source": [
    "def get_tensorboard_instance_or_create(experiment_name, experiment_description, project_gcp, location_gcp):\n",
    "    \"\"\"\n",
    "    Search if exist a tensorboard instance and get it. If the instance doesn't exist, create it.\n",
    "    The instance of tensorboard has its name with the idea to have the same name of the experiment of vertex ai that will use this instance\n",
    "    of vertex.\n",
    "\n",
    "    Args\n",
    "        experiment_name (string)\n",
    "        experiment_description (string)\n",
    "        project_gcp (string)\n",
    "        location_gcp (string)\n",
    "\n",
    "    Return\n",
    "        id_experiment_tensorboard (vertex ai tensorboard object)\n",
    "    \"\"\"\n",
    "    \n",
    "    ''' search tensorboard instance. if the list is empty the tensorboard instance doesn't exist and it will created '''\n",
    "    # GET tensorboard instance created FILTERING by display name. return a list of the instance doesn't exist return a empty list\n",
    "    list_tensorboard_vertex = vertex_ai.Tensorboard.list(\n",
    "        filter = f'display_name=\"tensorboard-{experiment_name}\"',\n",
    "        project = project_gcp,\n",
    "        location = location_gcp\n",
    "    )\n",
    "\n",
    "    # if vertex tensorboard instance doesn't exist, create it\n",
    "    if len(list_tensorboard_vertex) == 0:\n",
    "        print('--- creating vertex tensorboard instance ---')\n",
    "        id_tensorboard_vertex = vertex_ai.Tensorboard.create(display_name = f'tensorboard-{experiment_name}',\n",
    "                                                                 description = f'tensorboard-{experiment_description}',\n",
    "                                                                 project = project_gcp,\n",
    "                                                                 location = location_gcp\n",
    "                                                                ) # return tensorboard instance created\n",
    "    else:\n",
    "        print('--- tensorboard instance already exists ---')\n",
    "        id_tensorboard_vertex = list_tensorboard_vertex[0] # tensorboard instance exists, return it\n",
    "    \n",
    "    return id_tensorboard_vertex"
   ]
  },
  {
   "cell_type": "code",
   "execution_count": null,
   "id": "e49a58bf-5845-4349-9a22-73b9a71ac325",
   "metadata": {},
   "outputs": [],
   "source": []
  },
  {
   "cell_type": "markdown",
   "id": "d08619bd-574a-45ef-9090-3a07f7b1a1aa",
   "metadata": {},
   "source": [
    "### 3. Connect to vertex"
   ]
  },
  {
   "cell_type": "markdown",
   "id": "e3822465-06f8-4ef8-b71a-72ee00df7b1d",
   "metadata": {},
   "source": [
    "#### 3.1 Define parameters of vertex experiment"
   ]
  },
  {
   "cell_type": "code",
   "execution_count": 6,
   "id": "65cd4260-9c0e-45f3-bbee-e5074740e018",
   "metadata": {},
   "outputs": [],
   "source": [
    "# PARAMETERS GCP\n",
    "# read env variables (in this notebook there are defined previosly)\n",
    "\n",
    "\n",
    "# PARAMETERS TO CREATE AN EXPERIMENT IN VERTEX AI\n",
    "# obs: In names only are accepted '[a-z0-9][a-z0-9-]{0,127}'\n",
    "EXPERIMENT_NAME = NAME_DATASET # the name of the vertex experiment is the name of the dataset\n",
    "EXPERIMENT_DESCRIPTION = f'Run forecasting models of a target. Dataset: {EXPERIMENT_NAME}'"
   ]
  },
  {
   "cell_type": "code",
   "execution_count": null,
   "id": "ca78e403-2293-4162-849e-a482ddc50e06",
   "metadata": {},
   "outputs": [],
   "source": []
  },
  {
   "cell_type": "markdown",
   "id": "d3765803-7393-479a-a23a-e152d1a89d6d",
   "metadata": {},
   "source": [
    "#### 3.2 Set experiment vertex"
   ]
  },
  {
   "cell_type": "code",
   "execution_count": 7,
   "id": "e12e0e8d-e411-4a07-a651-4604a6f3f179",
   "metadata": {},
   "outputs": [
    {
     "name": "stdout",
     "output_type": "stream",
     "text": [
      "--- tensorboard instance already exists ---\n",
      "\n",
      "--- setting experiment vertex ai ---\n"
     ]
    }
   ],
   "source": [
    "# search tensorboard instance, if it doesn't exist -> created it\n",
    "id_tensorboard_vertex = get_tensorboard_instance_or_create(experiment_name = EXPERIMENT_NAME,\n",
    "                                                           experiment_description = EXPERIMENT_DESCRIPTION,\n",
    "                                                           project_gcp = PROJECT_GCP,\n",
    "                                                           location_gcp = REGION_GCP\n",
    "                                                          )\n",
    "\n",
    "# set experiment (or created if it doesn't exist - automatically)\n",
    "print('\\n--- setting experiment vertex ai ---')\n",
    "vertex_ai.init(\n",
    "    experiment = EXPERIMENT_NAME,\n",
    "    experiment_description = EXPERIMENT_DESCRIPTION,\n",
    "    experiment_tensorboard = id_tensorboard_vertex,\n",
    "    project = PROJECT_GCP,\n",
    "    location = REGION_GCP,\n",
    "    )"
   ]
  },
  {
   "cell_type": "code",
   "execution_count": null,
   "id": "27552581-e9b6-487a-81b9-e775e753ba6a",
   "metadata": {},
   "outputs": [],
   "source": []
  },
  {
   "cell_type": "code",
   "execution_count": null,
   "id": "968a6187-8125-4757-a49b-55ccd1f29ef8",
   "metadata": {},
   "outputs": [],
   "source": []
  },
  {
   "cell_type": "markdown",
   "id": "efeda002-9c85-47c4-8441-df6c43333c91",
   "metadata": {},
   "source": [
    "### 4. Show all the possibles runs to select to show information"
   ]
  },
  {
   "cell_type": "markdown",
   "id": "c4f991cf-99b0-418a-b4d0-0b7d63ffb4f4",
   "metadata": {},
   "source": [
    "#### 4.1 Show Values of each run (optional)"
   ]
  },
  {
   "cell_type": "code",
   "execution_count": 8,
   "id": "8f2b0696-951a-43f0-a240-84b5f5b07e25",
   "metadata": {},
   "outputs": [],
   "source": [
    "# info all runs of a experiment - way 1 - USE THIS CODE!\n",
    "# df_results_experiments = vertex_ai.get_experiment_df(EXPERIMENT_NAME)\n",
    "\n",
    "# info all runs of a experiment - way 2\n",
    "# my_experiment = vertex_ai.Experiment(EXPERIMENT_NAME)\n",
    "# df_results_experiments = my_experiment.get_data_frame()\n",
    "\n",
    "# df_results_experiments"
   ]
  },
  {
   "cell_type": "code",
   "execution_count": null,
   "id": "cdcfe850-ebda-4c3c-a2cf-53ca3e13af8d",
   "metadata": {},
   "outputs": [],
   "source": []
  },
  {
   "cell_type": "markdown",
   "id": "cc8b41f8-9235-47db-933f-2b2067418fd9",
   "metadata": {},
   "source": [
    "#### 4.2 Show the names of each run that it is possible to show"
   ]
  },
  {
   "cell_type": "code",
   "execution_count": 9,
   "id": "c83f4105-acff-47df-863a-4e25b621b2de",
   "metadata": {},
   "outputs": [],
   "source": [
    "# get a list of all runs in the experiment\n",
    "df_results_experiments = vertex_ai.get_experiment_df(EXPERIMENT_NAME) # it takes some seconds\n",
    "list_runs = df_results_experiments['run_name'].tolist()"
   ]
  },
  {
   "cell_type": "code",
   "execution_count": 10,
   "id": "7c03426f-bb95-46ce-9f0e-2e63592bf5cf",
   "metadata": {},
   "outputs": [
    {
     "data": {
      "text/plain": [
       "['run-mlp-sk-test1',\n",
       " 'run-rf-default-test1',\n",
       " 'run-rf-medium-test1',\n",
       " 'run-mlp-sk',\n",
       " 'run-rf-default',\n",
       " 'run-rf-small-test1',\n",
       " 'run-rf-medium',\n",
       " 'run-rf-small',\n",
       " 'run-tree',\n",
       " 'run-lr',\n",
       " 'run-tree-test1',\n",
       " 'run-lr-test1']"
      ]
     },
     "execution_count": 10,
     "metadata": {},
     "output_type": "execute_result"
    }
   ],
   "source": [
    "list_runs"
   ]
  },
  {
   "cell_type": "code",
   "execution_count": null,
   "id": "a280298b-7703-45a7-8fa2-83135ca3ede1",
   "metadata": {},
   "outputs": [],
   "source": []
  },
  {
   "cell_type": "code",
   "execution_count": null,
   "id": "0a014701-cee7-4267-81d4-206c8051de8c",
   "metadata": {},
   "outputs": [],
   "source": []
  },
  {
   "cell_type": "code",
   "execution_count": 11,
   "id": "3e8e22fa-2da3-43fd-aebe-19ced7da1fe4",
   "metadata": {},
   "outputs": [
    {
     "ename": "NameError",
     "evalue": "name 'stop' is not defined",
     "output_type": "error",
     "traceback": [
      "\u001b[1;31m---------------------------------------------------------------------------\u001b[0m",
      "\u001b[1;31mNameError\u001b[0m                                 Traceback (most recent call last)",
      "Cell \u001b[1;32mIn[11], line 1\u001b[0m\n\u001b[1;32m----> 1\u001b[0m \u001b[43mstop\u001b[49m\n",
      "\u001b[1;31mNameError\u001b[0m: name 'stop' is not defined"
     ]
    }
   ],
   "source": [
    "stop"
   ]
  },
  {
   "cell_type": "code",
   "execution_count": null,
   "id": "78c2299d-efed-4648-9c46-8a13e4a33722",
   "metadata": {},
   "outputs": [],
   "source": []
  },
  {
   "cell_type": "code",
   "execution_count": null,
   "id": "819dcead-3fb7-4b85-8882-1ea881fdf3a1",
   "metadata": {},
   "outputs": [],
   "source": []
  },
  {
   "cell_type": "markdown",
   "id": "3b427757-ab1e-4a57-ae21-d35052cc21a2",
   "metadata": {},
   "source": [
    "### 5. Show information of the selected RUN"
   ]
  },
  {
   "cell_type": "code",
   "execution_count": 12,
   "id": "405d31a2-a47b-403b-b359-bb78ce7cd36b",
   "metadata": {},
   "outputs": [],
   "source": [
    "# PARAMETER GIVEN BY THE USER - THE RUN TO FILTER THE INFORMATION\n",
    "SELECTED_RUN = 'run-rf-medium'"
   ]
  },
  {
   "cell_type": "code",
   "execution_count": null,
   "id": "2fa2ec57-5936-442a-aba4-b0bd51dae4fa",
   "metadata": {},
   "outputs": [],
   "source": []
  },
  {
   "cell_type": "markdown",
   "id": "59c1edcb-12de-4a32-9b7d-b9d09b6774de",
   "metadata": {},
   "source": [
    "#### 5.1 Get params, metrics and artifacts (way 1) (optional)\n",
    "Get params and metrics since the dataframe with info of the runs (dataframe results experiments)"
   ]
  },
  {
   "cell_type": "code",
   "execution_count": 13,
   "id": "6bc34c6b-2769-4c42-b86f-94e1e2cba6dc",
   "metadata": {},
   "outputs": [],
   "source": [
    "# # get list of columns in dataframe results\n",
    "# list_columns_results_experiments = df_results_experiments.columns.tolist()\n",
    "\n",
    "# # get list of columns params and metrics\n",
    "# param_list = [item for item in list_columns_results_experiments if item.startswith('param')]\n",
    "# metric_list = [item for item in list_columns_results_experiments if item.startswith('metric')]"
   ]
  },
  {
   "cell_type": "code",
   "execution_count": 14,
   "id": "7734925e-a1f5-47d3-965e-a6660a7628e7",
   "metadata": {},
   "outputs": [],
   "source": [
    "# # get params values. filter only the parameters saved\n",
    "# params_trainning = df_results_experiments[df_results_experiments['run_name'] == SELECTED_RUN][param_list]\n",
    "# params_trainning = params_trainning.reset_index().drop(columns = 'index')\n",
    "# params_trainning = params_trainning.T.dropna().T\n",
    "# params_trainning"
   ]
  },
  {
   "cell_type": "code",
   "execution_count": 15,
   "id": "15a08fda-df5d-4800-aba3-cbb33fa9b434",
   "metadata": {},
   "outputs": [],
   "source": [
    "# # get metrics values. filter only the metrics saved\n",
    "# metrics_trainning = df_results_experiments[df_results_experiments['run_name'] == SELECTED_RUN][metric_list]\n",
    "# metrics_trainning = metrics_trainning.reset_index().drop(columns = 'index')\n",
    "# metrics_trainning = metrics_trainning.T.dropna().T\n",
    "# metrics_trainning"
   ]
  },
  {
   "cell_type": "markdown",
   "id": "a0790958-8daa-46de-ac45-5733b1988c19",
   "metadata": {},
   "source": [
    "#### 5.2 Get params and metrics way 2 (using the vertex package methods)"
   ]
  },
  {
   "cell_type": "code",
   "execution_count": 16,
   "id": "ab3ed1b7-fb4e-4014-b268-56645472b05e",
   "metadata": {},
   "outputs": [],
   "source": [
    "###### connect to the run in vertex\n",
    "run_to_show = vertex_ai.ExperimentRun.get(SELECTED_RUN, experiment = EXPERIMENT_NAME)"
   ]
  },
  {
   "cell_type": "code",
   "execution_count": 17,
   "id": "2f78030a-3e38-4dc1-83e6-1a546e713a37",
   "metadata": {},
   "outputs": [],
   "source": [
    "###### get params values. filter only the parameters saved\n",
    "params_trainning = run_to_show.get_params()\n",
    "params_trainning = pd.DataFrame([params_trainning])\n",
    "\n",
    "# divide params training in 2 groups. Params of the model trained. Params of the problem\n",
    "params_problem = params_trainning[['steps_forecast']]\n",
    "params_trainning = params_trainning.drop(columns = ['steps_forecast'])"
   ]
  },
  {
   "cell_type": "code",
   "execution_count": 18,
   "id": "6f4ceb9c-b2de-4f9e-b119-831d6e3e411a",
   "metadata": {},
   "outputs": [
    {
     "data": {
      "text/html": [
       "<div>\n",
       "<style scoped>\n",
       "    .dataframe tbody tr th:only-of-type {\n",
       "        vertical-align: middle;\n",
       "    }\n",
       "\n",
       "    .dataframe tbody tr th {\n",
       "        vertical-align: top;\n",
       "    }\n",
       "\n",
       "    .dataframe thead th {\n",
       "        text-align: right;\n",
       "    }\n",
       "</style>\n",
       "<table border=\"1\" class=\"dataframe\">\n",
       "  <thead>\n",
       "    <tr style=\"text-align: right;\">\n",
       "      <th></th>\n",
       "      <th>max_depth</th>\n",
       "      <th>min_samples_split</th>\n",
       "      <th>min_samples_leaf</th>\n",
       "      <th>n_estimators</th>\n",
       "      <th>random_state</th>\n",
       "    </tr>\n",
       "  </thead>\n",
       "  <tbody>\n",
       "    <tr>\n",
       "      <th>0</th>\n",
       "      <td>50.0</td>\n",
       "      <td>10.0</td>\n",
       "      <td>10.0</td>\n",
       "      <td>30.0</td>\n",
       "      <td>42.0</td>\n",
       "    </tr>\n",
       "  </tbody>\n",
       "</table>\n",
       "</div>"
      ],
      "text/plain": [
       "   max_depth  min_samples_split  min_samples_leaf  n_estimators  random_state\n",
       "0       50.0               10.0              10.0          30.0          42.0"
      ]
     },
     "execution_count": 18,
     "metadata": {},
     "output_type": "execute_result"
    }
   ],
   "source": [
    "params_trainning"
   ]
  },
  {
   "cell_type": "code",
   "execution_count": 19,
   "id": "aca9cfbc-ef97-4fd7-91e0-8301abcecec6",
   "metadata": {},
   "outputs": [
    {
     "data": {
      "text/html": [
       "<div>\n",
       "<style scoped>\n",
       "    .dataframe tbody tr th:only-of-type {\n",
       "        vertical-align: middle;\n",
       "    }\n",
       "\n",
       "    .dataframe tbody tr th {\n",
       "        vertical-align: top;\n",
       "    }\n",
       "\n",
       "    .dataframe thead th {\n",
       "        text-align: right;\n",
       "    }\n",
       "</style>\n",
       "<table border=\"1\" class=\"dataframe\">\n",
       "  <thead>\n",
       "    <tr style=\"text-align: right;\">\n",
       "      <th></th>\n",
       "      <th>steps_forecast</th>\n",
       "    </tr>\n",
       "  </thead>\n",
       "  <tbody>\n",
       "    <tr>\n",
       "      <th>0</th>\n",
       "      <td>5.0</td>\n",
       "    </tr>\n",
       "  </tbody>\n",
       "</table>\n",
       "</div>"
      ],
      "text/plain": [
       "   steps_forecast\n",
       "0             5.0"
      ]
     },
     "execution_count": 19,
     "metadata": {},
     "output_type": "execute_result"
    }
   ],
   "source": [
    "params_problem"
   ]
  },
  {
   "cell_type": "code",
   "execution_count": null,
   "id": "667fc4d7-dba4-4204-b04f-14fc071d4351",
   "metadata": {},
   "outputs": [],
   "source": []
  },
  {
   "cell_type": "code",
   "execution_count": 20,
   "id": "c26502dc-ad0c-4b78-9176-5d5d1163b58f",
   "metadata": {},
   "outputs": [
    {
     "data": {
      "text/html": [
       "<div>\n",
       "<style scoped>\n",
       "    .dataframe tbody tr th:only-of-type {\n",
       "        vertical-align: middle;\n",
       "    }\n",
       "\n",
       "    .dataframe tbody tr th {\n",
       "        vertical-align: top;\n",
       "    }\n",
       "\n",
       "    .dataframe thead th {\n",
       "        text-align: right;\n",
       "    }\n",
       "</style>\n",
       "<table border=\"1\" class=\"dataframe\">\n",
       "  <thead>\n",
       "    <tr style=\"text-align: right;\">\n",
       "      <th></th>\n",
       "      <th>r2</th>\n",
       "      <th>mae</th>\n",
       "      <th>rmse</th>\n",
       "    </tr>\n",
       "  </thead>\n",
       "  <tbody>\n",
       "    <tr>\n",
       "      <th>0</th>\n",
       "      <td>-1.049225</td>\n",
       "      <td>3.100339</td>\n",
       "      <td>3.693566</td>\n",
       "    </tr>\n",
       "  </tbody>\n",
       "</table>\n",
       "</div>"
      ],
      "text/plain": [
       "         r2       mae      rmse\n",
       "0 -1.049225  3.100339  3.693566"
      ]
     },
     "execution_count": 20,
     "metadata": {},
     "output_type": "execute_result"
    }
   ],
   "source": [
    "###### get metrics values. filter only the metrics saved\n",
    "metrics_trainning = run_to_show.get_metrics()\n",
    "metrics_trainning = pd.DataFrame([metrics_trainning])\n",
    "metrics_trainning"
   ]
  },
  {
   "cell_type": "code",
   "execution_count": 32,
   "id": "5ae4a198-32a0-4e36-8ee4-9d8057833afb",
   "metadata": {},
   "outputs": [],
   "source": [
    "###### show artifact plot y_true vs y_pred\n",
    "\n",
    "# get list artifacts\n",
    "list_paths_artifacts = run_to_show.get_artifacts()\n",
    "\n",
    "# get path plot y_true vs y_pred in GCS. All the artifacts saved are .pkl except the plot (.png). Search the artifact that are a .png image\n",
    "for index_artifact in range(len(list_paths_artifacts)):\n",
    "    if list_paths_artifacts[index_artifact].uri.split('.')[-1] == 'png':\n",
    "        path_plt_plot = list_paths_artifacts[index_artifact].uri\n",
    "    else:\n",
    "        pass\n",
    "\n",
    "# connect to GCS as pythonic way\n",
    "fs = gcsfs.GCSFileSystem()\n",
    "\n",
    "# read the PNG file since GCS\n",
    "with fs.open(path_plt_plot, 'rb') as file:\n",
    "    img = mpimg.imread(file)\n",
    "\n",
    "# get image\n",
    "plt.imshow(img)\n",
    "plt.axis('off')\n",
    "\n",
    "# get a python variable with plt figure\n",
    "fig_ytrue_ypred = plt.gcf() # get actual plt figure\n",
    "plt.close() # close plt"
   ]
  },
  {
   "cell_type": "code",
   "execution_count": 33,
   "id": "4831bd64-8ceb-40ab-970d-453e2c9040c8",
   "metadata": {},
   "outputs": [
    {
     "data": {
      "image/png": "[encoded data removed]",
      "text/plain": [
       "<Figure size 640x480 with 1 Axes>"
      ]
     },
     "execution_count": 33,
     "metadata": {},
     "output_type": "execute_result"
    }
   ],
   "source": [
    "fig_ytrue_ypred"
   ]
  },
  {
   "cell_type": "code",
   "execution_count": null,
   "id": "1a25e2ef-bc48-4e9e-acba-7ed4d2b2cbe1",
   "metadata": {},
   "outputs": [],
   "source": []
  },
  {
   "cell_type": "code",
   "execution_count": null,
   "id": "30cd0b6d-4cb3-4a8c-8286-ffa02a7eb5e3",
   "metadata": {},
   "outputs": [],
   "source": []
  }
 ],
 "metadata": {
  "kernelspec": {
   "display_name": "Python 3 (ipykernel)",
   "language": "python",
   "name": "python3"
  },
  "language_info": {
   "codemirror_mode": {
    "name": "ipython",
    "version": 3
   },
   "file_extension": ".py",
   "mimetype": "text/x-python",
   "name": "python",
   "nbconvert_exporter": "python",
   "pygments_lexer": "ipython3",
   "version": "3.10.14"
  }
 },
 "nbformat": 4,
 "nbformat_minor": 5
}
