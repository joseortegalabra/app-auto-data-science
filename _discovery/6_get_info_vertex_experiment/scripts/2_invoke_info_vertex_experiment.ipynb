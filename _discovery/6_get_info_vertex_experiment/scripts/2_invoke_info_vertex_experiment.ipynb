{
 "cells": [
  {
   "cell_type": "markdown",
   "id": "1f09a41d-f5f9-4b5e-990f-15fb2625ffec",
   "metadata": {},
   "source": [
    "# Get model vertex experiment\n",
    "Get information of trainning of the models saved in vertex experiment (get the model name, metrics, params and artifacts). This information will be showed in the app when the user want to see the information of trainning\n",
    "\n",
    "---------\n",
    "\n",
    "Source codes: \n",
    "\n",
    "folder: https://github.com/joseortegalabra/tracking-training-ml-models/tree/main/vertex_ai\n",
    "\n",
    "specific notebook: https://github.com/joseortegalabra/tracking-training-ml-models/blob/main/vertex_ai/0_Vertex_AI_experiments_intro.ipynb"
   ]
  },
  {
   "cell_type": "code",
   "execution_count": 1,
   "id": "0d6abc5a-ec76-4978-a96a-0b93e22b8ad9",
   "metadata": {},
   "outputs": [],
   "source": [
    "# ---------------------------- read env variables used in the app ----------------------------\n",
    "import os\n",
    "from dotenv import load_dotenv, find_dotenv\n",
    "load_dotenv(find_dotenv())\n",
    "PROJECT_GCP = os.environ.get(\"PROJECT_GCP\", \"\")\n",
    "REGION_GCP = os.environ.get(\"REGION_GCP\", \"\")\n",
    "BUCKET_GCP = os.environ.get(\"BUCKET_GCP\", \"\")"
   ]
  },
  {
   "cell_type": "code",
   "execution_count": null,
   "id": "553fe65f-9802-4525-8fda-974ff3b76f7a",
   "metadata": {},
   "outputs": [],
   "source": []
  },
  {
   "cell_type": "markdown",
   "id": "c3b98039-cf9f-4287-b1e9-476d8f126c3c",
   "metadata": {},
   "source": [
    "## RUN"
   ]
  },
  {
   "cell_type": "code",
   "execution_count": 2,
   "id": "feeca76f-aac9-4a9f-aa06-82941f3c4b91",
   "metadata": {},
   "outputs": [],
   "source": [
    "import info_vertex_experiment as info_exp\n",
    "from google.cloud import aiplatform as vertex_ai\n",
    "import pandas as pd\n",
    "import gcsfs\n",
    "import matplotlib.image as mpimg\n",
    "import matplotlib.pyplot as plt"
   ]
  },
  {
   "cell_type": "code",
   "execution_count": null,
   "id": "d5556acc-1073-406e-8068-9b54d050a63b",
   "metadata": {},
   "outputs": [],
   "source": []
  },
  {
   "cell_type": "markdown",
   "id": "ee55c401-9e16-4816-bef7-ff6c92040014",
   "metadata": {},
   "source": [
    "### 1. Read parameters of the dataset\n",
    "Dataset to do the EDA"
   ]
  },
  {
   "cell_type": "code",
   "execution_count": 3,
   "id": "cc06999f-9990-405a-a0b4-bd60a70b7867",
   "metadata": {},
   "outputs": [],
   "source": [
    "# define name of the dataset - the user need to define it - ID - select by the user\n",
    "NAME_DATASET = 'develop-app-final-v2'"
   ]
  },
  {
   "cell_type": "code",
   "execution_count": null,
   "id": "e49a58bf-5845-4349-9a22-73b9a71ac325",
   "metadata": {},
   "outputs": [],
   "source": []
  },
  {
   "cell_type": "markdown",
   "id": "d08619bd-574a-45ef-9090-3a07f7b1a1aa",
   "metadata": {},
   "source": [
    "### 3. Connect to vertex"
   ]
  },
  {
   "cell_type": "markdown",
   "id": "e3822465-06f8-4ef8-b71a-72ee00df7b1d",
   "metadata": {},
   "source": [
    "#### 3.1 Define parameters of vertex experiment"
   ]
  },
  {
   "cell_type": "code",
   "execution_count": 4,
   "id": "65cd4260-9c0e-45f3-bbee-e5074740e018",
   "metadata": {},
   "outputs": [],
   "source": [
    "# EXPERIMENT NAME GIVE BY THE USER\n",
    "EXPERIMENT_NAME = NAME_DATASET # the name of the vertex experiment is the name of the dataset\n",
    "\n",
    "EXPERIMENT_DESCRIPTION = f'Run forecasting models of a target. Dataset: {EXPERIMENT_NAME}'"
   ]
  },
  {
   "cell_type": "code",
   "execution_count": null,
   "id": "ca78e403-2293-4162-849e-a482ddc50e06",
   "metadata": {},
   "outputs": [],
   "source": []
  },
  {
   "cell_type": "markdown",
   "id": "d3765803-7393-479a-a23a-e152d1a89d6d",
   "metadata": {},
   "source": [
    "#### 3.2 Set experiment vertex"
   ]
  },
  {
   "cell_type": "code",
   "execution_count": 5,
   "id": "e12e0e8d-e411-4a07-a651-4604a6f3f179",
   "metadata": {},
   "outputs": [
    {
     "name": "stdout",
     "output_type": "stream",
     "text": [
      "--- tensorboard instance already exists ---\n",
      "\n",
      "--- setting experiment vertex ai ---\n"
     ]
    }
   ],
   "source": [
    "# search tensorboard instance, if it doesn't exist -> created it\n",
    "id_tensorboard_vertex = info_exp.get_tensorboard_instance_or_create(experiment_name = EXPERIMENT_NAME,\n",
    "                                                                    experiment_description = EXPERIMENT_DESCRIPTION,\n",
    "                                                                    project_gcp = PROJECT_GCP,\n",
    "                                                                    location_gcp = REGION_GCP\n",
    "                                                                   )\n",
    "\n",
    "# set experiment (or created if it doesn't exist - automatically)\n",
    "print('\\n--- setting experiment vertex ai ---')\n",
    "vertex_ai.init(\n",
    "    experiment = EXPERIMENT_NAME,\n",
    "    experiment_description = EXPERIMENT_DESCRIPTION,\n",
    "    experiment_tensorboard = id_tensorboard_vertex,\n",
    "    project = PROJECT_GCP,\n",
    "    location = REGION_GCP,\n",
    "    )"
   ]
  },
  {
   "cell_type": "code",
   "execution_count": null,
   "id": "27552581-e9b6-487a-81b9-e775e753ba6a",
   "metadata": {},
   "outputs": [],
   "source": []
  },
  {
   "cell_type": "code",
   "execution_count": null,
   "id": "968a6187-8125-4757-a49b-55ccd1f29ef8",
   "metadata": {},
   "outputs": [],
   "source": []
  },
  {
   "cell_type": "markdown",
   "id": "efeda002-9c85-47c4-8441-df6c43333c91",
   "metadata": {},
   "source": [
    "### 4. Show all the possibles runs to select to show information"
   ]
  },
  {
   "cell_type": "markdown",
   "id": "cc8b41f8-9235-47db-933f-2b2067418fd9",
   "metadata": {},
   "source": [
    "#### 4.2 Show the names of each run that it is possible to show\n",
    "\n",
    "OBSERVATION TO DO: see that the artifacts of vertex experiments are saved in GCS, so, if this part of the code is so slow, it is possible search the runs by the name of the folders in GCS"
   ]
  },
  {
   "cell_type": "code",
   "execution_count": 6,
   "id": "c83f4105-acff-47df-863a-4e25b621b2de",
   "metadata": {},
   "outputs": [],
   "source": [
    "# get a list of all runs in the experiment\n",
    "df_results_experiments = vertex_ai.get_experiment_df(EXPERIMENT_NAME) # it takes some seconds\n",
    "list_runs = df_results_experiments['run_name'].tolist()"
   ]
  },
  {
   "cell_type": "code",
   "execution_count": 7,
   "id": "7c03426f-bb95-46ce-9f0e-2e63592bf5cf",
   "metadata": {},
   "outputs": [
    {
     "data": {
      "text/plain": [
       "['run-mlp-sk-test1',\n",
       " 'run-rf-default-test1',\n",
       " 'run-rf-medium-test1',\n",
       " 'run-mlp-sk',\n",
       " 'run-rf-default',\n",
       " 'run-rf-small-test1',\n",
       " 'run-rf-medium',\n",
       " 'run-rf-small',\n",
       " 'run-tree',\n",
       " 'run-lr',\n",
       " 'run-tree-test1',\n",
       " 'run-lr-test1']"
      ]
     },
     "execution_count": 7,
     "metadata": {},
     "output_type": "execute_result"
    }
   ],
   "source": [
    "list_runs"
   ]
  },
  {
   "cell_type": "code",
   "execution_count": null,
   "id": "a280298b-7703-45a7-8fa2-83135ca3ede1",
   "metadata": {},
   "outputs": [],
   "source": []
  },
  {
   "cell_type": "code",
   "execution_count": null,
   "id": "0a014701-cee7-4267-81d4-206c8051de8c",
   "metadata": {},
   "outputs": [],
   "source": []
  },
  {
   "cell_type": "code",
   "execution_count": 9,
   "id": "3e8e22fa-2da3-43fd-aebe-19ced7da1fe4",
   "metadata": {},
   "outputs": [
    {
     "ename": "SyntaxError",
     "evalue": "invalid syntax (164599208.py, line 1)",
     "output_type": "error",
     "traceback": [
      "\u001b[1;36m  Cell \u001b[1;32mIn[9], line 1\u001b[1;36m\u001b[0m\n\u001b[1;33m    stop - select kind of run to show\u001b[0m\n\u001b[1;37m                  ^\u001b[0m\n\u001b[1;31mSyntaxError\u001b[0m\u001b[1;31m:\u001b[0m invalid syntax\n"
     ]
    }
   ],
   "source": [
    "stop - select kind of run to show"
   ]
  },
  {
   "cell_type": "code",
   "execution_count": null,
   "id": "819dcead-3fb7-4b85-8882-1ea881fdf3a1",
   "metadata": {},
   "outputs": [],
   "source": []
  },
  {
   "cell_type": "markdown",
   "id": "3b427757-ab1e-4a57-ae21-d35052cc21a2",
   "metadata": {},
   "source": [
    "### 5. Show information of the selected RUN"
   ]
  },
  {
   "cell_type": "code",
   "execution_count": 10,
   "id": "405d31a2-a47b-403b-b359-bb78ce7cd36b",
   "metadata": {},
   "outputs": [],
   "source": [
    "# PARAMETER GIVEN BY THE USER - THE RUN TO FILTER THE INFORMATION\n",
    "SELECTED_RUN = 'run-rf-medium'"
   ]
  },
  {
   "cell_type": "code",
   "execution_count": null,
   "id": "f2e7a520-5195-4a53-aef6-f451e6d4b628",
   "metadata": {},
   "outputs": [],
   "source": []
  },
  {
   "cell_type": "code",
   "execution_count": 11,
   "id": "30870c89-4cce-48dd-8fda-7409afb0b727",
   "metadata": {},
   "outputs": [],
   "source": [
    "params_trainning, params_problem, metrics_trainning, img_true_pred = info_exp.show_information_run(SELECTED_RUN, EXPERIMENT_NAME)"
   ]
  },
  {
   "cell_type": "code",
   "execution_count": 12,
   "id": "f1ebbf41-abeb-4e4f-b26c-5ea183de7a44",
   "metadata": {},
   "outputs": [
    {
     "data": {
      "text/html": [
       "<div>\n",
       "<style scoped>\n",
       "    .dataframe tbody tr th:only-of-type {\n",
       "        vertical-align: middle;\n",
       "    }\n",
       "\n",
       "    .dataframe tbody tr th {\n",
       "        vertical-align: top;\n",
       "    }\n",
       "\n",
       "    .dataframe thead th {\n",
       "        text-align: right;\n",
       "    }\n",
       "</style>\n",
       "<table border=\"1\" class=\"dataframe\">\n",
       "  <thead>\n",
       "    <tr style=\"text-align: right;\">\n",
       "      <th></th>\n",
       "      <th>steps_forecast</th>\n",
       "    </tr>\n",
       "  </thead>\n",
       "  <tbody>\n",
       "    <tr>\n",
       "      <th>0</th>\n",
       "      <td>5.0</td>\n",
       "    </tr>\n",
       "  </tbody>\n",
       "</table>\n",
       "</div>"
      ],
      "text/plain": [
       "   steps_forecast\n",
       "0             5.0"
      ]
     },
     "execution_count": 12,
     "metadata": {},
     "output_type": "execute_result"
    }
   ],
   "source": [
    "# show params context problem\n",
    "params_problem"
   ]
  },
  {
   "cell_type": "code",
   "execution_count": 13,
   "id": "ab3ed1b7-fb4e-4014-b268-56645472b05e",
   "metadata": {},
   "outputs": [
    {
     "data": {
      "text/html": [
       "<div>\n",
       "<style scoped>\n",
       "    .dataframe tbody tr th:only-of-type {\n",
       "        vertical-align: middle;\n",
       "    }\n",
       "\n",
       "    .dataframe tbody tr th {\n",
       "        vertical-align: top;\n",
       "    }\n",
       "\n",
       "    .dataframe thead th {\n",
       "        text-align: right;\n",
       "    }\n",
       "</style>\n",
       "<table border=\"1\" class=\"dataframe\">\n",
       "  <thead>\n",
       "    <tr style=\"text-align: right;\">\n",
       "      <th></th>\n",
       "      <th>max_depth</th>\n",
       "      <th>random_state</th>\n",
       "      <th>min_samples_leaf</th>\n",
       "      <th>n_estimators</th>\n",
       "      <th>min_samples_split</th>\n",
       "    </tr>\n",
       "  </thead>\n",
       "  <tbody>\n",
       "    <tr>\n",
       "      <th>0</th>\n",
       "      <td>50.0</td>\n",
       "      <td>42.0</td>\n",
       "      <td>10.0</td>\n",
       "      <td>30.0</td>\n",
       "      <td>10.0</td>\n",
       "    </tr>\n",
       "  </tbody>\n",
       "</table>\n",
       "</div>"
      ],
      "text/plain": [
       "   max_depth  random_state  min_samples_leaf  n_estimators  min_samples_split\n",
       "0       50.0          42.0              10.0          30.0               10.0"
      ]
     },
     "execution_count": 13,
     "metadata": {},
     "output_type": "execute_result"
    }
   ],
   "source": [
    "# show params models\n",
    "params_trainning"
   ]
  },
  {
   "cell_type": "code",
   "execution_count": 14,
   "id": "6f4ceb9c-b2de-4f9e-b119-831d6e3e411a",
   "metadata": {},
   "outputs": [
    {
     "data": {
      "text/html": [
       "<div>\n",
       "<style scoped>\n",
       "    .dataframe tbody tr th:only-of-type {\n",
       "        vertical-align: middle;\n",
       "    }\n",
       "\n",
       "    .dataframe tbody tr th {\n",
       "        vertical-align: top;\n",
       "    }\n",
       "\n",
       "    .dataframe thead th {\n",
       "        text-align: right;\n",
       "    }\n",
       "</style>\n",
       "<table border=\"1\" class=\"dataframe\">\n",
       "  <thead>\n",
       "    <tr style=\"text-align: right;\">\n",
       "      <th></th>\n",
       "      <th>r2</th>\n",
       "      <th>mae</th>\n",
       "      <th>rmse</th>\n",
       "    </tr>\n",
       "  </thead>\n",
       "  <tbody>\n",
       "    <tr>\n",
       "      <th>0</th>\n",
       "      <td>-1.049225</td>\n",
       "      <td>3.100339</td>\n",
       "      <td>3.693566</td>\n",
       "    </tr>\n",
       "  </tbody>\n",
       "</table>\n",
       "</div>"
      ],
      "text/plain": [
       "         r2       mae      rmse\n",
       "0 -1.049225  3.100339  3.693566"
      ]
     },
     "execution_count": 14,
     "metadata": {},
     "output_type": "execute_result"
    }
   ],
   "source": [
    "# show metrics\n",
    "metrics_trainning"
   ]
  },
  {
   "cell_type": "code",
   "execution_count": 15,
   "id": "aca9cfbc-ef97-4fd7-91e0-8301abcecec6",
   "metadata": {},
   "outputs": [],
   "source": [
    "# show plot ytrue vs ypred\n",
    "\n",
    "# get image\n",
    "plt.imshow(img_true_pred)\n",
    "plt.axis('off')\n",
    "\n",
    "# get a python variable with plt figure\n",
    "fig_ytrue_ypred = plt.gcf() # get actual plt figure\n",
    "plt.close() # close plt"
   ]
  },
  {
   "cell_type": "code",
   "execution_count": 16,
   "id": "61121802-e2e0-4ee6-92f3-6e52de890145",
   "metadata": {},
   "outputs": [
    {
     "data": {
      "image/png": "[encoded data removed]",
      "text/plain": [
       "<Figure size 640x480 with 1 Axes>"
      ]
     },
     "execution_count": 16,
     "metadata": {},
     "output_type": "execute_result"
    }
   ],
   "source": [
    "fig_ytrue_ypred"
   ]
  },
  {
   "cell_type": "code",
   "execution_count": null,
   "id": "1a43ed8d-bc10-4d9a-88a6-720fc6456d42",
   "metadata": {},
   "outputs": [],
   "source": []
  },
  {
   "cell_type": "code",
   "execution_count": 17,
   "id": "b36365dd-0cbf-4bd2-8d85-6d795123db5d",
   "metadata": {},
   "outputs": [
    {
     "ename": "NameError",
     "evalue": "name 'stop' is not defined",
     "output_type": "error",
     "traceback": [
      "\u001b[1;31m---------------------------------------------------------------------------\u001b[0m",
      "\u001b[1;31mNameError\u001b[0m                                 Traceback (most recent call last)",
      "Cell \u001b[1;32mIn[17], line 1\u001b[0m\n\u001b[1;32m----> 1\u001b[0m \u001b[43mstop\u001b[49m\n",
      "\u001b[1;31mNameError\u001b[0m: name 'stop' is not defined"
     ]
    }
   ],
   "source": [
    "stop"
   ]
  },
  {
   "cell_type": "markdown",
   "id": "3bf58731-172a-4107-9493-b5fd2175a9bb",
   "metadata": {},
   "source": [
    "### 5B. Show information of the selected RUN - ANOTHER RUN"
   ]
  },
  {
   "cell_type": "code",
   "execution_count": 18,
   "id": "086ef3ab-89cd-4b20-9f0a-d5c00c5f78b1",
   "metadata": {},
   "outputs": [],
   "source": [
    "# PARAMETER GIVEN BY THE USER - THE RUN TO FILTER THE INFORMATION\n",
    "SELECTED_RUN = 'run-lr'\n",
    "params_trainning, params_problem, metrics_trainning, img_true_pred = info_exp.show_information_run(SELECTED_RUN, EXPERIMENT_NAME)"
   ]
  },
  {
   "cell_type": "code",
   "execution_count": 19,
   "id": "cd8714a8-292d-47a9-90a8-e002e67a3622",
   "metadata": {},
   "outputs": [
    {
     "data": {
      "text/html": [
       "<div>\n",
       "<style scoped>\n",
       "    .dataframe tbody tr th:only-of-type {\n",
       "        vertical-align: middle;\n",
       "    }\n",
       "\n",
       "    .dataframe tbody tr th {\n",
       "        vertical-align: top;\n",
       "    }\n",
       "\n",
       "    .dataframe thead th {\n",
       "        text-align: right;\n",
       "    }\n",
       "</style>\n",
       "<table border=\"1\" class=\"dataframe\">\n",
       "  <thead>\n",
       "    <tr style=\"text-align: right;\">\n",
       "      <th></th>\n",
       "      <th>steps_forecast</th>\n",
       "    </tr>\n",
       "  </thead>\n",
       "  <tbody>\n",
       "    <tr>\n",
       "      <th>0</th>\n",
       "      <td>5.0</td>\n",
       "    </tr>\n",
       "  </tbody>\n",
       "</table>\n",
       "</div>"
      ],
      "text/plain": [
       "   steps_forecast\n",
       "0             5.0"
      ]
     },
     "execution_count": 19,
     "metadata": {},
     "output_type": "execute_result"
    }
   ],
   "source": [
    "# show params context problem\n",
    "params_problem"
   ]
  },
  {
   "cell_type": "code",
   "execution_count": 20,
   "id": "64ab33a2-71ca-45eb-8824-20e633fe45b0",
   "metadata": {},
   "outputs": [
    {
     "data": {
      "text/html": [
       "<div>\n",
       "<style scoped>\n",
       "    .dataframe tbody tr th:only-of-type {\n",
       "        vertical-align: middle;\n",
       "    }\n",
       "\n",
       "    .dataframe tbody tr th {\n",
       "        vertical-align: top;\n",
       "    }\n",
       "\n",
       "    .dataframe thead th {\n",
       "        text-align: right;\n",
       "    }\n",
       "</style>\n",
       "<table border=\"1\" class=\"dataframe\">\n",
       "  <thead>\n",
       "    <tr style=\"text-align: right;\">\n",
       "      <th></th>\n",
       "    </tr>\n",
       "  </thead>\n",
       "  <tbody>\n",
       "    <tr>\n",
       "      <th>0</th>\n",
       "    </tr>\n",
       "  </tbody>\n",
       "</table>\n",
       "</div>"
      ],
      "text/plain": [
       "Empty DataFrame\n",
       "Columns: []\n",
       "Index: [0]"
      ]
     },
     "execution_count": 20,
     "metadata": {},
     "output_type": "execute_result"
    }
   ],
   "source": [
    "# show params models\n",
    "params_trainning"
   ]
  },
  {
   "cell_type": "code",
   "execution_count": 21,
   "id": "ca349080-86eb-4980-8e12-b5166b920f3d",
   "metadata": {},
   "outputs": [
    {
     "data": {
      "text/html": [
       "<div>\n",
       "<style scoped>\n",
       "    .dataframe tbody tr th:only-of-type {\n",
       "        vertical-align: middle;\n",
       "    }\n",
       "\n",
       "    .dataframe tbody tr th {\n",
       "        vertical-align: top;\n",
       "    }\n",
       "\n",
       "    .dataframe thead th {\n",
       "        text-align: right;\n",
       "    }\n",
       "</style>\n",
       "<table border=\"1\" class=\"dataframe\">\n",
       "  <thead>\n",
       "    <tr style=\"text-align: right;\">\n",
       "      <th></th>\n",
       "      <th>r2</th>\n",
       "      <th>mae</th>\n",
       "      <th>rmse</th>\n",
       "    </tr>\n",
       "  </thead>\n",
       "  <tbody>\n",
       "    <tr>\n",
       "      <th>0</th>\n",
       "      <td>-46.144127</td>\n",
       "      <td>16.842967</td>\n",
       "      <td>17.715968</td>\n",
       "    </tr>\n",
       "  </tbody>\n",
       "</table>\n",
       "</div>"
      ],
      "text/plain": [
       "          r2        mae       rmse\n",
       "0 -46.144127  16.842967  17.715968"
      ]
     },
     "execution_count": 21,
     "metadata": {},
     "output_type": "execute_result"
    }
   ],
   "source": [
    "# show metrics\n",
    "metrics_trainning"
   ]
  },
  {
   "cell_type": "code",
   "execution_count": 22,
   "id": "979ca712-62c0-46b8-a869-75e7959577d5",
   "metadata": {},
   "outputs": [],
   "source": [
    "# show plot ytrue vs ypred\n",
    "\n",
    "# get image\n",
    "plt.imshow(img_true_pred)\n",
    "plt.axis('off')\n",
    "\n",
    "# get a python variable with plt figure\n",
    "fig_ytrue_ypred = plt.gcf() # get actual plt figure\n",
    "plt.close() # close plt"
   ]
  },
  {
   "cell_type": "code",
   "execution_count": 23,
   "id": "3e077a69-e5b6-4b2e-88ea-37a73ff7f09d",
   "metadata": {},
   "outputs": [
    {
     "data": {
      "image/png": "[encoded data removed]",
      "text/plain": [
       "<Figure size 640x480 with 1 Axes>"
      ]
     },
     "execution_count": 23,
     "metadata": {},
     "output_type": "execute_result"
    }
   ],
   "source": [
    "fig_ytrue_ypred"
   ]
  },
  {
   "cell_type": "code",
   "execution_count": null,
   "id": "c6af816b-3a3c-471f-b5be-65cc2aa1d6a3",
   "metadata": {},
   "outputs": [],
   "source": []
  },
  {
   "cell_type": "code",
   "execution_count": null,
   "id": "27b1d730-c8a3-43a2-8426-bd8e3686300e",
   "metadata": {},
   "outputs": [],
   "source": []
  },
  {
   "cell_type": "code",
   "execution_count": null,
   "id": "6f0ba8e1-6489-4cc6-95ce-e7e9aa0addec",
   "metadata": {},
   "outputs": [],
   "source": []
  }
 ],
 "metadata": {
  "kernelspec": {
   "display_name": "Python 3 (ipykernel)",
   "language": "python",
   "name": "python3"
  },
  "language_info": {
   "codemirror_mode": {
    "name": "ipython",
    "version": 3
   },
   "file_extension": ".py",
   "mimetype": "text/x-python",
   "name": "python",
   "nbconvert_exporter": "python",
   "pygments_lexer": "ipython3",
   "version": "3.10.14"
  }
 },
 "nbformat": 4,
 "nbformat_minor": 5
}
